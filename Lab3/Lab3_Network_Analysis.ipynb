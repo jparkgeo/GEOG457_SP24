{
 "cells": [
  {
   "cell_type": "markdown",
   "metadata": {},
   "source": [
    "# Network Analysis: caculating accessible area using Euclidean distance and Manhattan distance\n",
    "\n",
    "This Jupyter notebook investigate the differences between Euclidean distance and Manhattan distance and between Buffer and Convex Hull. To exemplify, we will examine the census block group that is accessible to a stadium (Ralph Engelstad Arena) in Grand Forks County, North Dakota.\n",
    "\n",
    "### Data: \n",
    "* Census Block: https://www.census.gov/geographies/mapping-files/time-series/geo/tiger-line-file.html <br>\n",
    "* Open Street Map: https://www.openstreetmap.org/\n",
    "\n",
    "### Steps:\n",
    "1. Calculate Euclidean Distance\n",
    "2. Calculate accessible census blocks using Euclidean distance\n",
    "3. Calculate Manhattan Distance\n",
    "4. Calculate accessible census blocks using Manhattan Distance\n"
   ]
  },
  {
   "cell_type": "markdown",
   "metadata": {},
   "source": [
    "# Import Packages\n",
    "A Python package is a way of organizing related Python modules into a single directory hierarchy. It provides a mechanism for grouping Python code files, resources, and configuration settings in a structured manner, making it easier to manage and distribute code. They also facilitate code reuse and distribution by allowing developers to bundle related functionality together and share it with others.\n",
    "\n",
    "The following packages are used in this notebook:<br>\n",
    "`networkx` is a Python package for the creation, manipulation, and study of the structure, dynamics, and functions of complex networks (e.g., road networks). <br>\n",
    "source: https://networkx.org/documentation/stable/index.html<br>\n",
    "\n",
    "`osmnx` is a Python package to retrieve, model, analyze, and visualize street networks from OpenStreetMap. <br>\n",
    "source: https://osmnx.readthedocs.io/<br>\n",
    "\n",
    "`geopy` is a Python package to locate the coordinates of addresses, cities, countries, and landmarks across the globe using third-party geocoders and other data sources. <br>\n",
    "source: https://geopy.readthedocs.io/<br>\n",
    "\n",
    "`math` is a built-in module that provides access to the mathematical functions defined by the C standard. <br>\n",
    "soure: https://docs.python.org/3/library/math.html<br>"
   ]
  },
  {
   "cell_type": "code",
   "execution_count": null,
   "metadata": {},
   "outputs": [],
   "source": [
    "# New Packages\n",
    "import networkx as nx\n",
    "import osmnx as ox\n",
    "import geopy\n",
    "import math\n",
    "\n",
    "# Packages that investigated in the previous project\n",
    "import geopandas as gpd\n",
    "import pandas as pd\n",
    "import matplotlib.pyplot as plt\n",
    "\n",
    "# Etc\n",
    "import warnings\n",
    "warnings.filterwarnings('ignore')"
   ]
  },
  {
   "cell_type": "markdown",
   "metadata": {},
   "source": [
    "# 1. Calculate Euclidean Distance\n",
    "\n",
    "## 1.1. Geocoding two addresses\n",
    "With the help of the geopy package, we can find the latitude and longitude of the stadium in Grand Forks County, North Dakota. \n",
    "\n",
    "Syntax: \n",
    "```python\n",
    "geolocator = geopy.geocoders.Nominatim(user_agent=\"my_first_geocoder\")\n",
    "result = geolocator.geocode(\"TYPE AN ADDRESS\")\n",
    "```\n",
    "\n",
    "Note: this example uses a geocoding engine provided by OpenStreetMap but not as good as a commercial geocoding engine. If the address is searchable on OpenStreetMap, you can extract the latitude and longitude of the address. If the address is not searchable, you can use a commercial geocoding engine such as Google Maps, Bing Maps, or MapQuest.\n"
   ]
  },
  {
   "cell_type": "code",
   "execution_count": null,
   "metadata": {},
   "outputs": [],
   "source": [
    "# Initate a geocoding engine\n",
    "geolocator = geopy.geocoders.Nominatim(user_agent=\"my_first_geocoder\")\n",
    "\n",
    "stadium = geolocator.geocode(\"775 Hamline St, Grand Forks, ND 58203\")\n",
    "stadium"
   ]
  },
  {
   "cell_type": "code",
   "execution_count": null,
   "metadata": {},
   "outputs": [],
   "source": [
    "# Geocoded result is stored in the latitude and longitude attributes\n",
    "stadium.latitude, stadium.longitude"
   ]
  },
  {
   "cell_type": "code",
   "execution_count": null,
   "metadata": {},
   "outputs": [],
   "source": [
    "# Geocoding a different location (a drom at University of North Dakota)\n",
    "dorm = geolocator.geocode(\"3601 University Ave, Grand Forks, ND 58202\")\n",
    "print(dorm.latitude, dorm.longitude)"
   ]
  },
  {
   "cell_type": "markdown",
   "metadata": {},
   "source": [
    "## 1.2. Save geocoded results into GeoDataFrame"
   ]
  },
  {
   "cell_type": "code",
   "execution_count": null,
   "metadata": {},
   "outputs": [],
   "source": [
    "# You can save the geocoded result in a dictionary to be converted into a (Geo)DataFrame\n",
    "location_dict = {\n",
    "    'Name': ['Dorm', 'Stadium'],\n",
    "    'Latitude': [dorm.latitude, stadium.latitude],\n",
    "    'Longitude': [dorm.longitude, stadium.longitude]\n",
    "}\n",
    "location_dict"
   ]
  },
  {
   "cell_type": "markdown",
   "metadata": {},
   "source": [
    "Syntax to define a GeoDataFrame\n",
    "```python\n",
    "gdf = gpd.GeoDataFrame(DICTIONARY, \n",
    "                      geometry=gpd.points_from_xy(DICTIONARY['LONGITUDE COLUMN'], DICTIONARY.['LATITUDE COLUMN']),\n",
    "                      crs='EPSG:4326' # GCS (WGS 84)\n",
    "                      )\n",
    "```\n",
    "\n",
    "`gpd.points_from_xy` is equivalent to XY Table to Point in ArcGIS Pro. It creates a GeoSeries of geometries from x, y (and optionally z) coordinates."
   ]
  },
  {
   "cell_type": "code",
   "execution_count": null,
   "metadata": {},
   "outputs": [],
   "source": [
    "# Convert the dictionary into a GeoDataFrame with points as the geometry\n",
    "origin_dest_gdf = gpd.GeoDataFrame(location_dict, geometry=gpd.points_from_xy(location_dict['Longitude'], location_dict['Latitude']), crs=\"EPSG:4326\")\n",
    "origin_dest_gdf"
   ]
  },
  {
   "cell_type": "code",
   "execution_count": null,
   "metadata": {},
   "outputs": [],
   "source": [
    "# Explore funciton allow us to visualize the GeoDataFrame with an interactive map\n",
    "origin_dest_gdf.explore()"
   ]
  },
  {
   "cell_type": "markdown",
   "metadata": {},
   "source": [
    "## 1.3. Change coordinate system to Projected Coordinate System (PCS) to calculate distances in meters"
   ]
  },
  {
   "cell_type": "code",
   "execution_count": null,
   "metadata": {},
   "outputs": [],
   "source": [
    "# Original CRS is WGS84\n",
    "origin_dest_gdf.crs"
   ]
  },
  {
   "cell_type": "code",
   "execution_count": null,
   "metadata": {},
   "outputs": [],
   "source": [
    "origin_dest_gdf_proj = origin_dest_gdf.to_crs(epsg=32614) # Project to UTM Zone 14N\n",
    "origin_dest_gdf_proj"
   ]
  },
  {
   "cell_type": "code",
   "execution_count": null,
   "metadata": {},
   "outputs": [],
   "source": [
    "origin_dest_gdf_proj.crs"
   ]
  },
  {
   "cell_type": "code",
   "execution_count": null,
   "metadata": {},
   "outputs": [],
   "source": [
    "# geometry column in GeoDataFrame has a special attribute called x and y that can be used to extract the coordinates\n",
    "# In this case, the unit of results is in meters as the GeoDataFrame is projected to UTM zone 14N\n",
    "print(origin_dest_gdf_proj.at[0, 'geometry'].x, origin_dest_gdf_proj.at[0, 'geometry'].y)"
   ]
  },
  {
   "cell_type": "code",
   "execution_count": null,
   "metadata": {},
   "outputs": [],
   "source": [
    "print(origin_dest_gdf_proj.at[1, 'geometry'].x, origin_dest_gdf_proj.at[1, 'geometry'].y)"
   ]
  },
  {
   "cell_type": "markdown",
   "metadata": {},
   "source": [
    " ## 1.4. Calculate Euclidean distance between two points\n",
    " \n",
    " Equation to calculate Euclidean distance\n",
    " \n",
    " $$\n",
    " d\\left( p,q\\right)   = \\sqrt {\\sum _{i=1}^{n}  \\left( q_{i}-p_{i}\\right)^2 } \n",
    " $$"
   ]
  },
  {
   "cell_type": "code",
   "execution_count": null,
   "metadata": {},
   "outputs": [],
   "source": [
    "# Euclidean distance\n",
    "math.sqrt((origin_dest_gdf_proj.at[0, 'geometry'].x - origin_dest_gdf_proj.at[1, 'geometry'].x)**2 \n",
    "          + (origin_dest_gdf_proj.at[0, 'geometry'].y - origin_dest_gdf_proj.at[1, 'geometry'].y)**2\n",
    "          )"
   ]
  },
  {
   "cell_type": "code",
   "execution_count": null,
   "metadata": {},
   "outputs": [],
   "source": [
    "# You can simply use distance method to calculate the distance between two points\n",
    "origin_dest_gdf_proj.at[0, 'geometry'].distance(origin_dest_gdf_proj.at[1, 'geometry'])"
   ]
  },
  {
   "cell_type": "markdown",
   "metadata": {},
   "source": [
    "---\n",
    "### *Exercise*\n",
    "1. (3 points) Find the longitude and latitude of the following two addresses using geopy package. \n",
    "\n",
    "**Origin Address (O'Kelly at UND)**: 221 Centennial Drive, Grand Forks, ND 58202 <br>\n",
    "**Destination Address (Target)**: 3601 32nd Avenue South, Grand Forks, ND, 58201\n",
    "\n",
    "```python\n",
    "import geopy # Package to geocode addresses\n",
    "\n",
    "# Initialize the geocoding engine\n",
    "geolocator = geopy.geocoders.Nominatim(user_agent=\"my_first_geocoder\")\n",
    "\n",
    "# Geocode two addresses\n",
    "origin = geolocator.geocode(`Origin Address`)\n",
    "destination = geolocator.geocode(`Destination Address`)\n",
    "\n",
    "print(f'|Origin| Longitude: {origin.longitude}, Latitude: {origin.latitude}')\n",
    "print(f'|Destination| Longitude: {destination.longitude}, Latitude: {destination.latitude}')\n",
    "```\n",
    "---"
   ]
  },
  {
   "cell_type": "code",
   "execution_count": null,
   "metadata": {},
   "outputs": [],
   "source": [
    "# # Your code here\n",
    "# Initialize the geocoding engine\n",
    "geolocator = geopy.geocoders.Nominatim(user_agent=\"my_first_geocoder\")\n",
    "\n",
    "# Geocode two addresses\n",
    "origin = geolocator.geocode(`Origin Address`)\n",
    "destination = geolocator.geocode(`Destination Address`)\n",
    "\n",
    "print(f'|Origin| Longitude: {origin.longitude}, Latitude: {origin.latitude}')\n",
    "print(f'|Destination| Longitude: {destination.longitude}, Latitude: {destination.latitude}')"
   ]
  },
  {
   "cell_type": "code",
   "execution_count": null,
   "metadata": {},
   "outputs": [],
   "source": [
    "\"\"\" Test code for the previous function. \n",
    "This cell should NOT give any errors when it is run.\"\"\"\n",
    "\n",
    "assert round(origin.longitude, 4) == -97.0699\n",
    "assert round(origin.latitude, 4) == 47.9208\n",
    "assert round(destination.longitude, 4) == -97.0801\n",
    "assert round(destination.latitude, 4) == 47.8865\n",
    "\n",
    "print(\"Success!\")"
   ]
  },
  {
   "cell_type": "markdown",
   "metadata": {},
   "source": [
    "---\n",
    "### *Exercise*\n",
    "2. (5 points) Calculate Euclidean Distance between two points from GeoDataFrame. \n",
    "* Create GeoDataFrame from a dictionary that stores the geocoded results of the two addresses and save it into `geocoded_gdf`.\n",
    "* Project GeoDataFrame(`geocoded_gdf`) to UTM Zone 14N (epsg code: 32614).\n",
    "* Calculate Euclidean Distance using the GeoDataFrame.distance method and save the distance result into `euclidean_dist_two_points`.\n",
    "\n",
    "```python\n",
    "# Create a dictionary to store the geocoded results\n",
    "geocoded_dict = {\n",
    "    'Name': ['Origin', 'Destination'],\n",
    "    'Latitude': [origin.latitude, destination.latitude],  # Enter variables here\n",
    "    'Longitude': [origin.longitude, destination.longitude]  # Enter variables here\n",
    "}\n",
    "\n",
    "# Create a GeoDataFrame to store the geocoded results\n",
    "geocoded_gdf = gpd.GeoDataFrame(geocoded_dict, \n",
    "                                geometry=gpd.points_from_xy(`LONGITUDE COLUMN OF A GEODATAFRAME`,\n",
    "                                                            `LATITUDE COLUMN OF A GEODATAFRAME`), \n",
    "                                crs=\"EPSG:4326\" # WGS 84\n",
    "                                )\n",
    "\n",
    "# Project the GeoDataFrame to UTM Zone 14N\n",
    "geocoded_gdf = geocoded_gdf.to_crs(epsg=`EPSG CODE`) # Project to UTM Zone 14N (epsg code: 32614)\n",
    "\n",
    "# Calculate the Euclidean distance between two points using the GeoDataFrame.distance method\n",
    "euclidean_dist_two_points = `ORIGIN POINT`.distance(`DESTINATION POINT`)\n",
    "\n",
    "print(euclidean_dist_two_points)\n",
    "```\n",
    "---\n",
    "\n"
   ]
  },
  {
   "cell_type": "code",
   "execution_count": null,
   "metadata": {},
   "outputs": [],
   "source": [
    "# # Your code here\n",
    "\n",
    "# Create a dictionary to store the geocoded results\n",
    "geocoded_dict = {\n",
    "    'Name': ['Origin', 'Destination'],\n",
    "    'Latitude': [origin.latitude, destination.latitude],  # Enter variables here\n",
    "    'Longitude': [origin.longitude, destination.longitude]  # Enter variables here\n",
    "}\n",
    "\n",
    "# Create a GeoDataFrame to store the geocoded results\n",
    "geocoded_gdf = gpd.GeoDataFrame(geocoded_dict, \n",
    "                                geometry=gpd.points_from_xy(`LONGITUDE COLUMN OF A GEODATAFRAME`,\n",
    "                                                            `LATITUDE COLUMN OF A GEODATAFRAME`), \n",
    "                                crs=\"EPSG:4326\" # WGS 84\n",
    "                                )\n",
    "\n",
    "# Project the GeoDataFrame to UTM Zone 14N\n",
    "geocoded_gdf = geocoded_gdf.to_crs(epsg=`EPSG CODE`) # Project to UTM Zone 14N (epsg code: 32614)\n",
    "\n",
    "# Calculate the Euclidean distance between two points using the GeoDataFrame.distance method\n",
    "euclidean_dist_two_points = `ORIGIN POINT`.distance(`DESTINATION POINT`)\n",
    "\n",
    "print(euclidean_dist_two_points)"
   ]
  },
  {
   "cell_type": "code",
   "execution_count": null,
   "metadata": {},
   "outputs": [],
   "source": [
    "\"\"\" Test code for the previous function. \n",
    "This cell should NOT give any errors when it is run.\"\"\"\n",
    "\n",
    "assert geocoded_gdf.shape == (2, 4)\n",
    "assert geocoded_gdf.crs == \"EPSG:32614\"\n",
    "assert round(euclidean_dist_two_points) == 3882\n",
    "\n",
    "print(\"Success!\")"
   ]
  },
  {
   "cell_type": "markdown",
   "metadata": {},
   "source": [
    "# 2. Calculate accessible census blocks using Euclidean distance"
   ]
  },
  {
   "cell_type": "markdown",
   "metadata": {},
   "source": [
    "## 2.1. Load census block data and geocode the stadium address"
   ]
  },
  {
   "cell_type": "code",
   "execution_count": null,
   "metadata": {},
   "outputs": [],
   "source": [
    "# Initate a geocoding engine\n",
    "geolocator = geopy.geocoders.Nominatim(user_agent=\"my_first_geocoder\")\n",
    "\n",
    "# Geocode the address of Ralph Engelstad Arena\n",
    "stadium = geolocator.geocode(\"775 Hamline St, Grand Forks, ND 58203\")\n",
    "\n",
    "# Geocoded result is stored in the latitude and longitude attributes\n",
    "stadium_gdf = gpd.GeoDataFrame({'Name': ['Ralph Engelstad Arena'], \n",
    "                                'Latitude': [stadium.latitude], \n",
    "                                'Longitude': [stadium.longitude]}, \n",
    "                                geometry=gpd.points_from_xy([stadium.longitude], [stadium.latitude]), \n",
    "                                crs=\"EPSG:4326\"\n",
    "                                )\n",
    "stadium_gdf"
   ]
  },
  {
   "cell_type": "code",
   "execution_count": null,
   "metadata": {},
   "outputs": [],
   "source": [
    "# Load the census block data\n",
    "gf_block = gpd.read_file('./data/gf_census_block.geojson')\n",
    "gf_block.head(3)"
   ]
  },
  {
   "cell_type": "code",
   "execution_count": null,
   "metadata": {},
   "outputs": [],
   "source": [
    "# Plot the census block and the stadium\n",
    "fig, ax = plt.subplots(figsize=(7,7))\n",
    "gf_block.plot(color='lightgrey', edgecolor='grey', ax=ax)\n",
    "stadium_gdf.plot(ax=ax, color='green')\n",
    "plt.show()"
   ]
  },
  {
   "cell_type": "markdown",
   "metadata": {},
   "source": [
    "## 2.2. Change coordinate system to Projected Coordinate System (PCS) to calculate distances in meters"
   ]
  },
  {
   "cell_type": "code",
   "execution_count": null,
   "metadata": {},
   "outputs": [],
   "source": [
    "# `crs` attribute of the GeoDataFrame has coordinate reference system information\n",
    "gf_block.crs"
   ]
  },
  {
   "cell_type": "code",
   "execution_count": null,
   "metadata": {},
   "outputs": [],
   "source": [
    "stadium_gdf.crs"
   ]
  },
  {
   "cell_type": "code",
   "execution_count": null,
   "metadata": {},
   "outputs": [],
   "source": [
    "# Again, we use to_crs method to project the GeoDataFrame to UTM Zone 14N\n",
    "# This coordinate system has the unit in meters\n",
    "\n",
    "stadium_gdf = stadium_gdf.to_crs(epsg=32614) # Project to UTM Zone 14N\n",
    "gf_block = gf_block.to_crs(epsg=32614) # Project to UTM Zone 14N"
   ]
  },
  {
   "cell_type": "code",
   "execution_count": null,
   "metadata": {},
   "outputs": [],
   "source": [
    "# Check the crs attribute again..\n",
    "gf_block.crs"
   ]
  },
  {
   "cell_type": "code",
   "execution_count": null,
   "metadata": {},
   "outputs": [],
   "source": [
    "stadium_gdf.crs"
   ]
  },
  {
   "cell_type": "markdown",
   "metadata": {},
   "source": [
    "## 2.3. Create a buffer around the stadium to calculate Euclidean distance\n",
    "\n",
    "Syntax to create a buffer around a point\n",
    "```python\n",
    "gdf = gdf.buffer(`RADIUS IN METERS`) \n",
    "\n",
    "OR\n",
    "\n",
    "gdf = gdf['geometry'].buffer(`RADIUS IN METERS`)\n",
    "```"
   ]
  },
  {
   "cell_type": "code",
   "execution_count": null,
   "metadata": {},
   "outputs": [],
   "source": [
    "stadium_2km_buffer = stadium_gdf.copy() # Copy the stadium GeoDataFrame (Optional Step)\n",
    "\n",
    "# Create a 2km buffer around the stadium\n",
    "stadium_2km_buffer['geometry'] = stadium_2km_buffer['geometry'].buffer(2000)\n",
    "stadium_2km_buffer\n"
   ]
  },
  {
   "cell_type": "code",
   "execution_count": null,
   "metadata": {},
   "outputs": [],
   "source": [
    "# Plot the census block, the stadium, and the 2km buffer\n",
    "fig, ax = plt.subplots(figsize=(7,7))\n",
    "gf_block.plot(color='lightgrey', edgecolor='grey', ax=ax)\n",
    "stadium_gdf.plot(ax=ax, color='green')\n",
    "stadium_2km_buffer.boundary.plot(ax=ax, color='green', alpha=0.5)\n",
    "plt.show()"
   ]
  },
  {
   "cell_type": "markdown",
   "metadata": {},
   "source": [
    "## 2.4. Select census blocks that are within the buffer\n",
    "\n",
    "Spatial operations methods in GeoPandas: <br>\n",
    "- `intersects` method: Selects all rows that intersect a single geometry. <br>\n",
    "- `within` method: Selects all rows that are within a single geometry. <br>\n",
    "- `disjoint` method: Selects all rows that are disjoint to a single geometry. <br>\n",
    "\n",
    "Syntax:\n",
    "```python\n",
    "`GEOMETRY COLUMN`.intersects(`A SINGLE GEOMETRY`) # intersect operation (can be replaced with within or disjoint)\n",
    "```\n",
    "\n",
    "Spatial operations in GeoPandas can be performed using the `loc` method. The loc method syntax is `df.loc[row condition, column condition]`. The following codes is the completed code to select a given geodataframe based on a spatial operation.<br>\n",
    "\n",
    "Syntax:\n",
    "```python\n",
    "`SELECTED_GDF` = `GEODATAFRAME`.loc[`GEODATAFRAME_A`['geometry'].intersects(`A SINGLE GEOMETRY`)] # Intersects operation\n",
    "```\n",
    "\n",
    "Kinds of spatial operations: <br>\n",
    "![](https://www.researchgate.net/profile/Tran-Dang-2/publication/286609202/figure/fig2/AS:925090808086531@1597570244506/Eight-OGC-spatial-relations-used-in-GeoXACML_W640.jpg)"
   ]
  },
  {
   "cell_type": "code",
   "execution_count": null,
   "metadata": {},
   "outputs": [],
   "source": [
    "# Select a geometry only\n",
    "stadium_2km_buffer['geometry'][0]"
   ]
  },
  {
   "cell_type": "code",
   "execution_count": null,
   "metadata": {},
   "outputs": [],
   "source": [
    "# Query whether gf_block geometries intersect with the stadium_2km_buffer\n",
    "gf_block.intersects(stadium_2km_buffer['geometry'][0])"
   ]
  },
  {
   "cell_type": "code",
   "execution_count": null,
   "metadata": {},
   "outputs": [],
   "source": [
    "# Select the census blocks that intersect with the 2km buffer\n",
    "block_2km_access = gf_block.loc[gf_block.intersects(stadium_2km_buffer['geometry'][0])]\n",
    "block_2km_access"
   ]
  },
  {
   "cell_type": "code",
   "execution_count": null,
   "metadata": {},
   "outputs": [],
   "source": [
    "# Select the census blocks that do not intersect (i.e., disjoint) with the 2km buffer \n",
    "block_2km_no_access = gf_block.loc[gf_block.disjoint(stadium_2km_buffer['geometry'][0])]\n",
    "block_2km_no_access"
   ]
  },
  {
   "cell_type": "code",
   "execution_count": null,
   "metadata": {},
   "outputs": [],
   "source": [
    "# You can also use the `~` (tilde) operator with intersects operation to select the disjoint blocks\n",
    "gf_block.loc[~gf_block.intersects(stadium_2km_buffer['geometry'][0])]"
   ]
  },
  {
   "cell_type": "code",
   "execution_count": null,
   "metadata": {},
   "outputs": [],
   "source": [
    "# Plot results\n",
    "\n",
    "# Within operation results\n",
    "block_2km_access_2 = gf_block.loc[gf_block.within(stadium_2km_buffer['geometry'][0])]\n",
    "block_2km_no_access_2 = gf_block.loc[~gf_block.within(stadium_2km_buffer['geometry'][0])]\n",
    "\n",
    "# Intersects result\n",
    "fig, axes = plt.subplots(1, 2, figsize=(15, 7))\n",
    "block_2km_access.plot(color='lightgreen', ax=axes[0])\n",
    "block_2km_no_access.plot(color='lightcoral', ax=axes[0])\n",
    "stadium_gdf.plot(ax=axes[0], color='green')\n",
    "stadium_2km_buffer.boundary.plot(ax=axes[0], color='green', alpha=0.5)\n",
    "axes[0].set_title(f'Intersects Operation ({block_2km_access.shape[0]} Blocks Selected)')\n",
    "\n",
    "# Within result\n",
    "block_2km_access_2.plot(color='lightgreen', ax=axes[1])\n",
    "block_2km_no_access_2.plot(color='lightcoral', ax=axes[1])\n",
    "stadium_gdf.plot(ax=axes[1], color='green')\n",
    "stadium_2km_buffer.boundary.plot(ax=axes[1], color='green', alpha=0.5)\n",
    "axes[1].set_title(f'Within Operation ({block_2km_access_2.shape[0]} Blocks Selected)')\n",
    "\n",
    "plt.show()"
   ]
  },
  {
   "cell_type": "markdown",
   "metadata": {},
   "source": [
    "---\n",
    "### *Exercise*\n",
    "3. (5 points) Create two GeoDataFrame (block_1km_access, block_1km_no_access) to find out the census blocks that are within and outside of the 1km buffer around the stadium. \n",
    "\n",
    "    output: \n",
    "    - block_1km_access: GeoDataFrame of census blocks that falls within the 1km buffer from the stadium.\n",
    "    - block_1km_no_access: GeoDataFrame of census blocks that falls outside of the 1km buffer from the stadium.\n",
    "\n",
    "    Hint: Use the `within` method to select the blocks that falls within the 1km buffer.\n",
    "   \n",
    "   Summary of codes:\n",
    "```python\n",
    "# Make a copy from the original stadium GeoDataFrame\n",
    "stadium_buffer = stadium_gdf.copy()\n",
    "\n",
    "# Create a buffer around the stadium\n",
    "stadium_buffer['geometry'] = stadium_gdf['geometry'].buffer(`RADIUS IN METERS`) # create buffer\n",
    "\n",
    "# Select census blocks that are within the buffer\n",
    "block_1km_access = `CENSUS BLOCK GDF`.loc[`CENSUS BLOCK GDF`['geometry'].`SPATIAL OPERATION`(`A SINGLE GEOMETRY`)] \n",
    "block_1km_no_access = `HINT: USE TILDE`\n",
    "```\n",
    "\n",
    "---"
   ]
  },
  {
   "cell_type": "code",
   "execution_count": null,
   "metadata": {},
   "outputs": [],
   "source": [
    "# # Your code here\n",
    "\n",
    "# Make a copy from the original stadium GeoDataFrame\n",
    "stadium_buffer = stadium_gdf.copy()\n",
    "\n",
    "# Create a buffer around the stadium\n",
    "stadium_buffer['geometry'] = stadium_gdf['geometry'].buffer(`RADIUS IN METERS`) # create buffer\n",
    "\n",
    "# Select census blocks that are within the buffer\n",
    "block_1km_access = `CENSUS BLOCK GDF`.loc[`CENSUS BLOCK GDF`['geometry'].`SPATIAL OPERATION`(`A SINGLE GEOMETRY`)] \n",
    "block_1km_no_access = `HINT: USE TILDE`"
   ]
  },
  {
   "cell_type": "code",
   "execution_count": null,
   "metadata": {},
   "outputs": [],
   "source": [
    "\"\"\" Test code for the previous function. \n",
    "This cell should NOT give any errors when it is run.\"\"\"\n",
    "\n",
    "assert round(stadium_1km_buffer['geometry'][0].area) == 3136548\n",
    "assert block_1km_access.shape[0] == 54\n",
    "assert block_1km_no_access.shape[0] == 1036\n",
    "\n",
    "print(\"Success!\")"
   ]
  },
  {
   "cell_type": "markdown",
   "metadata": {},
   "source": [
    "# 3. Calculate Manhattan Distance"
   ]
  },
  {
   "cell_type": "markdown",
   "metadata": {},
   "source": [
    "## 3.1. Download street network data from OpenStreetMap\n",
    "\n",
    "Syntax to download street network data from OpenStreetMap\n",
    "```python\n",
    "network = ox.graph_from_place(`AN ADDRESS OF GEOCODEABLE ADMINISTRATIVE REGION`, network_type='drive') \n",
    "```\n",
    "\n",
    "Source: https://osmnx.readthedocs.io/en/stable/user-reference.html#osmnx.graph.graph_from_place"
   ]
  },
  {
   "cell_type": "code",
   "execution_count": null,
   "metadata": {},
   "outputs": [],
   "source": [
    "# Obtain OSM Network in the city of Grand Forks\n",
    "G = ox.graph_from_place('Grand Forks, ND, USA', network_type='drive', simplify=True)\n",
    "\n",
    "# Plot the network\n",
    "ox.plot_graph(G)\n"
   ]
  },
  {
   "cell_type": "code",
   "execution_count": null,
   "metadata": {},
   "outputs": [],
   "source": [
    "# In case the download is failed, you can load the graph from the local file\n",
    "\n",
    "# G= ox.load_graphml('./data/grand_forks_road.graphml')\n",
    "# ox.plot_graph(G)"
   ]
  },
  {
   "cell_type": "code",
   "execution_count": null,
   "metadata": {},
   "outputs": [],
   "source": [
    "# The downloaded graph is a MultiDiGraph, and it can be converted into GeoDataFrames using ox.graph_to_gdfs function\n",
    "nodes, edges = ox.graph_to_gdfs(G, nodes=True, edges=True)\n",
    "nodes"
   ]
  },
  {
   "cell_type": "markdown",
   "metadata": {},
   "source": [
    "OSM highway types: https://wiki.openstreetmap.org/wiki/Key:highway"
   ]
  },
  {
   "cell_type": "code",
   "execution_count": null,
   "metadata": {},
   "outputs": [],
   "source": [
    "edges"
   ]
  },
  {
   "cell_type": "markdown",
   "metadata": {},
   "source": [
    "## 3.2. Snap the stadium location to the nearest node on the street network\n",
    "\n",
    "Network dataset consists of nodes and edges. Nodes are points where edges meet. Edges are lines that represent streets. <br>\n",
    "![](https://upload.wikimedia.org/wikipedia/commons/2/2f/Small_Network.png)\n",
    "\n",
    "To calculate Manhattan distance, we need to snap the stadium location to the nearest node on the street network using the `osmnx` package.\n",
    "Syntax: \n",
    "```python\n",
    "nearest_node = ox.distance.nearest_nodes(`NETWORK`, `POINT LONGITUDE`, `POINT LATITUDE`)\n",
    "```\n",
    "\n",
    "Source: https://osmnx.readthedocs.io/en/stable/user-reference.html#osmnx.distance.nearest_nodes"
   ]
  },
  {
   "cell_type": "code",
   "execution_count": null,
   "metadata": {},
   "outputs": [],
   "source": [
    "# Initate a geocoding engine\n",
    "geolocator = geopy.geocoders.Nominatim(user_agent=\"my_first_geocoder\")\n",
    "\n",
    "# Geocode the address of Ralph Engelstad Arena\n",
    "stadium = geolocator.geocode(\"775 Hamline St, Grand Forks, ND 58203\")\n",
    "print('Stadium Location:', stadium.latitude, stadium.longitude)\n",
    "\n",
    "# Geocoding a different location (a drom at University of North Dakota)\n",
    "dorm = geolocator.geocode(\"3601 University Ave, Grand Forks, ND 58202\")\n",
    "print('Dorm Location: ', dorm.latitude, dorm.longitude)"
   ]
  },
  {
   "cell_type": "code",
   "execution_count": null,
   "metadata": {},
   "outputs": [],
   "source": [
    "stadium_nearest_node = ox.distance.nearest_nodes(G, stadium.longitude, stadium.latitude) # OSMID nearest to stadium\n",
    "print(\"Nearest Node's OSMID from Stadium:\", stadium_nearest_node)\n",
    "\n",
    "dorm_nearest_node = ox.distance.nearest_nodes(G, dorm.longitude, dorm.latitude) # OSMID nearest to dorm\n",
    "print(\"Nearest Node's OSMID from Dorm:\", dorm_nearest_node)"
   ]
  },
  {
   "cell_type": "code",
   "execution_count": null,
   "metadata": {},
   "outputs": [],
   "source": [
    "# Plot the offset between the stadium and the nearest node\n",
    "\n",
    "fig, ax = plt.subplots(figsize=(7,7))\n",
    "\n",
    "# Stadium location\n",
    "nodes.loc[nodes.index == stadium_nearest_node].plot(ax=ax, color='blue')  # Snapping point\n",
    "ax.plot(stadium.longitude, stadium.latitude, c='black', marker='o')  # Original point\n",
    "\n",
    "# Dorm location\n",
    "nodes.loc[nodes.index == dorm_nearest_node].plot(ax=ax, color='red')  # Snapping point\n",
    "ax.plot(dorm.longitude, dorm.latitude, c='black', marker='o')  # Original point\n",
    "\n",
    "# The below is just for plotting purposes\n",
    "temp_buffer = stadium_gdf.buffer(1500)\n",
    "temp_buffer_gcs = temp_buffer.to_crs(epsg=4326) # Project to WGS84\n",
    "edges.loc[edges.geometry.intersects(temp_buffer_gcs.geometry[0])].plot(ax=ax, color='grey', linewidth=0.5)"
   ]
  },
  {
   "cell_type": "markdown",
   "metadata": {},
   "source": [
    "## 3.3. Calculate Manhattan distance between the stadium and the dorm "
   ]
  },
  {
   "cell_type": "code",
   "execution_count": null,
   "metadata": {},
   "outputs": [],
   "source": [
    "# Reminder of how to create a GeoDataFrame from a dictionary\n",
    "\n",
    "# You can save the geocoded result in a dictionary to be converted into a (Geo)DataFrame\n",
    "location_dict = {\n",
    "    'Name': ['Dorm', 'Stadium'],\n",
    "    'Latitude': [dorm.latitude, stadium.latitude],\n",
    "    'Longitude': [dorm.longitude, stadium.longitude]\n",
    "}\n",
    "\n",
    "# Convert the dictionary into a GeoDataFrame with points as the geometry\n",
    "origin_dest_gdf = gpd.GeoDataFrame(location_dict, geometry=gpd.points_from_xy(location_dict['Longitude'], location_dict['Latitude']), crs=\"EPSG:4326\")\n",
    "\n",
    "origin_dest_gdf_proj = origin_dest_gdf.to_crs(epsg=32614) # Project to UTM Zone 14N\n",
    "\n",
    "# You can simply use distance method to calculate the distance between two points\n",
    "euclidean_distance = origin_dest_gdf_proj.at[0, 'geometry'].distance(origin_dest_gdf_proj.at[1, 'geometry'])\n",
    "print('Euclidean Distance between the stadium ann dorm:', euclidean_distance)"
   ]
  },
  {
   "cell_type": "markdown",
   "metadata": {},
   "source": [
    "You can calculate the Manhattan distance between two points using the following code.\n",
    "\n",
    "Syntax: \n",
    "```python\n",
    "nx.shortest_path_length(`NETWORK`, `NEAREST NODE OF ORIGIN`, `NEAREST NODE OF DESTINATION`, weight='length')\n",
    "```\n",
    "\n",
    "Source: https://networkx.org/documentation/stable/reference/algorithms/generated/networkx.algorithms.shortest_paths.generic.shortest_path_length.html"
   ]
  },
  {
   "cell_type": "code",
   "execution_count": null,
   "metadata": {},
   "outputs": [],
   "source": [
    "# Previous code to snap the stadium and dorm to the nearest node\n",
    "stadium_nearest_node = ox.distance.nearest_nodes(G, stadium.longitude, stadium.latitude) # OSMID nearest to stadium\n",
    "print(\"Nearest Node's OSMID from Stadium:\", stadium_nearest_node)\n",
    "\n",
    "dorm_nearest_node = ox.distance.nearest_nodes(G, dorm.longitude, dorm.latitude) # OSMID nearest to dorm\n",
    "print(\"Nearest Node's OSMID from Dorm:\", dorm_nearest_node)"
   ]
  },
  {
   "cell_type": "code",
   "execution_count": null,
   "metadata": {},
   "outputs": [],
   "source": [
    "# Calculate the shortest path between the stadium and dorm\n",
    "manhattan_distance = nx.shortest_path_length(G, 75962224, 75861583, weight='length')\n",
    "\n",
    "# The code below would give you the same result as `dorm_nearest_node` and `stadium_nearest_node` already has the nearest node's OSMID\n",
    "# manhattan_distance = nx.shortest_path_length(G, dorm_nearest_node, stadium_nearest_node, weight='length')\n",
    "\n",
    "print('Manhattan Distance between the stadium and dorm:', manhattan_distance)"
   ]
  },
  {
   "cell_type": "markdown",
   "metadata": {},
   "source": [
    "You can also find the route between two points using the following code.\n",
    "Note: The routes is a list of nodes that are connected to each other.\n",
    "\n",
    "Syntax: \n",
    "```python\n",
    "routes = nx.shortest_path(`NETWORK`, `NEAREST NODE OF ORIGIN`, `NEAREST NODE OF DESTINATION`, weight='length')\n",
    "\n",
    "```\n",
    "\n",
    "Source: https://networkx.org/documentation/stable/reference/algorithms/generated/networkx.algorithms.shortest_paths.generic.shortest_path.html"
   ]
  },
  {
   "cell_type": "code",
   "execution_count": null,
   "metadata": {},
   "outputs": [],
   "source": [
    "routes = nx.shortest_path(G, 75962224, 75861583, weight='length')\n",
    "routes"
   ]
  },
  {
   "cell_type": "code",
   "execution_count": null,
   "metadata": {},
   "outputs": [],
   "source": [
    "od_list = [[routes[i], routes[i+1]] for i in range(len(routes)-1)]\n",
    "routes_gdf = gpd.GeoDataFrame(geometry=[edges.loc[(u, v)].geometry.iloc[0] for u, v in od_list], crs=edges.crs)\n",
    "routes_gdf"
   ]
  },
  {
   "cell_type": "code",
   "execution_count": null,
   "metadata": {},
   "outputs": [],
   "source": [
    "# Plot the offset between the stadium and the nearest node\n",
    "\n",
    "fig, ax = plt.subplots(figsize=(7,7))\n",
    "\n",
    "# Stadium location\n",
    "nodes.loc[nodes.index == stadium_nearest_node].plot(ax=ax, color='blue')  # Snapping point\n",
    "ax.plot(stadium.longitude, stadium.latitude, c='black', marker='o')  # Original point\n",
    "\n",
    "# Dorm location\n",
    "nodes.loc[nodes.index == dorm_nearest_node].plot(ax=ax, color='red')  # Snapping point\n",
    "ax.plot(dorm.longitude, dorm.latitude, c='black', marker='o')  # Original point\n",
    "\n",
    "# Euclidean distance\n",
    "ax.plot([stadium.longitude, dorm.longitude], [stadium.latitude, dorm.latitude], color='black')\n",
    "\n",
    "# Manhattan distance\n",
    "routes_gdf.plot(ax=ax, color='red', linewidth=3)\n",
    "\n",
    "# The below is just for plotting purposes\n",
    "temp_buffer = stadium_gdf.buffer(1500)\n",
    "temp_buffer_gcs = temp_buffer.to_crs(epsg=4326) # Project to WGS84\n",
    "edges.loc[edges.geometry.intersects(temp_buffer_gcs.geometry[0])].plot(ax=ax, color='grey', linewidth=0.5)"
   ]
  },
  {
   "cell_type": "markdown",
   "metadata": {},
   "source": [
    "---\n",
    "### *Exercise*\n",
    "4. (5 points) Find the nearest OSM ID from the following two addresses.\n",
    "\n",
    "**Origin Address (O'Kelly at UND)**: 221 Centennial Drive, Grand Forks, ND 58202 <br>\n",
    "**Destination Address (Target)**: 3601 32nd Avenue South, Grand Forks, ND, 58201\n",
    "\n",
    "Investigate how to snap the origin and destination locations to their nearest node on the street network using the `osmnx` package.\n",
    "```python\n",
    "nearest_node = ox.distance.nearest_nodes(`NETWORK`, `POINT LONGITUDE`, `POINT LATITUDE`)\n",
    "\n",
    "# This code allows you to find the longitude and latitude of the two addresses\n",
    "# Initialize the geocoding engine\n",
    "geolocator = geopy.geocoders.Nominatim(user_agent=\"my_first_geocoder\")\n",
    "\n",
    "# Geocode two addresses\n",
    "origin = geolocator.geocode(\"221 Centennial Drive, Grand Forks, ND 58202\")\n",
    "destination = geolocator.geocode(\"3601 32nd Avenue South, Grand Forks, ND, 58201\")\n",
    "\n",
    "print(f'|Origin| Longitude: {origin.longitude}, Latitude: {origin.latitude}')\n",
    "print(f'|Destination| Longitude: {destination.longitude}, Latitude: {destination.latitude}')\n",
    "\n",
    "# Your code here\n",
    "origin_nearest_node = ox.distance.nearest_nodes(`NETWORK`, `POINT LONGITUDE`, `POINT LATITUDE`)\n",
    "destination_nearest_node = ox.distance.nearest_nodes(`NETWORK`, `POINT LONGITUDE`, `POINT LATITUDE`)\n",
    "\n",
    "print(\"Origin's Nearest Node's OSMID:\", origin_nearest_node)\n",
    "print(\"Destination's Nearest Node's OSMID:\", destination_nearest_node)\n",
    "```\n",
    "---"
   ]
  },
  {
   "cell_type": "code",
   "execution_count": null,
   "metadata": {},
   "outputs": [],
   "source": [
    "# # This code allows you to find the longitude and latitude of the two addresses\n",
    "# Initialize the geocoding engine\n",
    "geolocator = geopy.geocoders.Nominatim(user_agent=\"my_first_geocoder\")\n",
    "\n",
    "# Geocode two addresses\n",
    "origin = geolocator.geocode(\"221 Centennial Drive, Grand Forks, ND 58202\")\n",
    "destination = geolocator.geocode(\"3601 32nd Avenue South, Grand Forks, ND, 58201\")\n",
    "\n",
    "print(f'|Origin| Longitude: {origin.longitude}, Latitude: {origin.latitude}')\n",
    "print(f'|Destination| Longitude: {destination.longitude}, Latitude: {destination.latitude}')\n",
    "\n",
    "# Your code here\n",
    "origin_nearest_node = ox.distance.nearest_nodes(`NETWORK`, `POINT LONGITUDE`, `POINT LATITUDE`)\n",
    "destination_nearest_node = ox.distance.nearest_nodes(`NETWORK`, `POINT LONGITUDE`, `POINT LATITUDE`)\n",
    "\n",
    "print(\"Origin's Nearest Node's OSMID:\", origin_nearest_node)\n",
    "print(\"Destination's Nearest Node's OSMID:\", destination_nearest_node)"
   ]
  },
  {
   "cell_type": "code",
   "execution_count": null,
   "metadata": {},
   "outputs": [],
   "source": [
    "\"\"\" Test code for the previous function. \n",
    "This cell should NOT give any errors when it is run.\"\"\"\n",
    "\n",
    "assert origin_nearest_node == 75958974\n",
    "assert destination_nearest_node == 75860718\n",
    "\n",
    "print(\"Success!\")"
   ]
  },
  {
   "cell_type": "markdown",
   "metadata": {},
   "source": [
    "---\n",
    "### *Exercise*\n",
    "5. (2 points) Calculate the Manhattan Distance between the Origin and Destination addresses and save the result to `manhattan_dist_two_points`.\n",
    "\n",
    "Syntax to calculate the Manhattan distance between two points\n",
    "```python\n",
    "manhattan_dist_two_points = nx.shortest_path_length(`NETWORK`, `NEAREST NODE OF ORIGIN`, `NEAREST NODE OF DESTINATION`, weight='length')\n",
    "print(manhattan_distance)\n",
    "```\n",
    "---"
   ]
  },
  {
   "cell_type": "code",
   "execution_count": null,
   "metadata": {},
   "outputs": [],
   "source": [
    "# # Your code here\n",
    "manhattan_dist_two_points = nx.shortest_path_length(`NETWORK`, `NEAREST NODE OF ORIGIN`, `NEAREST NODE OF DESTINATION`, weight='length')\n",
    "print(manhattan_distance)"
   ]
  },
  {
   "cell_type": "code",
   "execution_count": null,
   "metadata": {},
   "outputs": [],
   "source": [
    "\"\"\" Test code for the previous function. \n",
    "This cell should NOT give any errors when it is run.\"\"\"\n",
    "\n",
    "assert round(manhattan_distance) == 4748\n",
    "\n",
    "print(\"Success!\")"
   ]
  },
  {
   "cell_type": "code",
   "execution_count": null,
   "metadata": {},
   "outputs": [],
   "source": [
    "# Plot the difference between Manhattan and Euclidean distances of the two points\n",
    "fig, ax = plt.subplots(figsize=(7,7))\n",
    "\n",
    "ax.plot(origin.longitude, origin.latitude, c='black', marker='o')  # Origin point\n",
    "ax.plot(destination.longitude, destination.latitude, c='black', marker='o')  # Destination point\n",
    "\n",
    "nodes.loc[nodes.index == origin_nearest_node].plot(ax=ax, color='red')  # Snapping point\n",
    "nodes.loc[nodes.index == destination_nearest_node].plot(ax=ax, color='blue')  # Snapping point\n",
    "\n",
    "ax.plot([origin.longitude, destination.longitude], [origin.latitude, destination.latitude], color='black')  # Euclidean distance\n",
    "\n",
    "_routes = nx.shortest_path(G, origin_nearest_node, destination_nearest_node, weight='length')\n",
    "_od_list = [[_routes[i], _routes[i+1]] for i in range(len(_routes)-1)]\n",
    "_routes_gdf = gpd.GeoDataFrame(geometry=[edges.loc[(u, v)].geometry.iloc[0] for u, v in _od_list], crs=edges.crs)\n",
    "_routes_gdf.plot(ax=ax, color='red', linewidth=3)  # Manhattan distance\n",
    "\n",
    "edges.plot(ax=ax, color='grey', linewidth=0.5)"
   ]
  },
  {
   "cell_type": "markdown",
   "metadata": {},
   "source": [
    "# 4. Calculate accessible census blocks using Manhattan Distance"
   ]
  },
  {
   "cell_type": "code",
   "execution_count": null,
   "metadata": {},
   "outputs": [],
   "source": [
    "# Reload the stadium location \n",
    "\n",
    "# Initate a geocoding engine\n",
    "geolocator = geopy.geocoders.Nominatim(user_agent=\"my_first_geocoder\")\n",
    "\n",
    "# Geocode the address of Ralph Engelstad Arena\n",
    "stadium = geolocator.geocode(\"775 Hamline St, Grand Forks, ND 58203\")\n",
    "\n",
    "# Previous code to snap the stadium and dorm to the nearest node\n",
    "stadium_nearest_node = ox.distance.nearest_nodes(G, stadium.longitude, stadium.latitude) # OSMID nearest to stadium\n",
    "print(\"Nearest Node's OSMID from Stadium:\", stadium_nearest_node)"
   ]
  },
  {
   "cell_type": "markdown",
   "metadata": {},
   "source": [
    "## 4.1. Find the accessible nodes within a given distance\n",
    "\n",
    "Syntax to find the accessible nodes within a given distance\n",
    "```python\n",
    "`ACCESSIBLE_NODE_DICTIONARY` = nx.single_source_dijkstra_path_length(`NETWORK`, `NEAREST NODE OF ORIGIN`, `DISTANCE IN METERS`, weight='length')\n",
    "```"
   ]
  },
  {
   "cell_type": "code",
   "execution_count": null,
   "metadata": {},
   "outputs": [],
   "source": [
    "temp_manhattan_dist = nx.single_source_dijkstra_path_length(G, stadium_nearest_node, cutoff=2000, weight='length')\n",
    "temp_manhattan_dist"
   ]
  },
  {
   "cell_type": "code",
   "execution_count": null,
   "metadata": {},
   "outputs": [],
   "source": [
    "# Get the keys of the dictionary from temp_manhattan_dist\n",
    "temp_manhattan_dist.keys()"
   ]
  },
  {
   "cell_type": "code",
   "execution_count": null,
   "metadata": {},
   "outputs": [],
   "source": [
    "# Check whether the nodes are in the keys of the dictionary\n",
    "nodes.index.isin(list(temp_manhattan_dist.keys()))"
   ]
  },
  {
   "cell_type": "code",
   "execution_count": null,
   "metadata": {},
   "outputs": [],
   "source": [
    "# Select the nodes that are within 2km from the stadium\n",
    "access_node_gdf = nodes.loc[nodes.index.isin(list(temp_manhattan_dist.keys()))]\n",
    "access_node_gdf"
   ]
  },
  {
   "cell_type": "code",
   "execution_count": null,
   "metadata": {},
   "outputs": [],
   "source": [
    "fig, ax = plt.subplots(figsize=(7,7))\n",
    "\n",
    "ax.plot(stadium.longitude, stadium.latitude, c='green', marker='o')  # Stadium point\n",
    "access_node_gdf.plot(ax=ax, color='black', markersize=5)  # Nodes within 2km from the stadium\n",
    "\n",
    "# The below is just for plotting purposes\n",
    "_temp_buffer = stadium_gdf.buffer(2000)\n",
    "_temp_buffer_gcs = _temp_buffer.to_crs(epsg=4326) # Project to WGS84\n",
    "edges.loc[edges.intersects(_temp_buffer_gcs[0])].plot(ax=ax, color='grey', linewidth=0.5)  # Roads within 2km from the stadium"
   ]
  },
  {
   "cell_type": "markdown",
   "metadata": {},
   "source": [
    "## 4.2. Create Convex Hull from the accessible nodes\n",
    "\n",
    "The convex hull of a set of points is the smallest convex set that contains all the points. \n",
    "\n",
    "\n",
    "![](https://miro.medium.com/v2/resize:fit:677/1*F4IUmOJbbLMJiTgHxpoc7Q.png)\n"
   ]
  },
  {
   "cell_type": "code",
   "execution_count": null,
   "metadata": {},
   "outputs": [],
   "source": [
    "# GeoDataFrame of accessible nodes\n",
    "access_node_gdf"
   ]
  },
  {
   "cell_type": "code",
   "execution_count": null,
   "metadata": {},
   "outputs": [],
   "source": [
    "# Dissove the GeoDataFrame to create a single geometry\n",
    "access_node_gdf.unary_union"
   ]
  },
  {
   "cell_type": "code",
   "execution_count": null,
   "metadata": {},
   "outputs": [],
   "source": [
    "# In the form of well-known text (WKT)\n",
    "access_node_gdf.unary_union.wkt"
   ]
  },
  {
   "cell_type": "code",
   "execution_count": null,
   "metadata": {},
   "outputs": [],
   "source": [
    "# How to create a convex hull from the GeoDataFrame\n",
    "access_node_gdf.unary_union.convex_hull"
   ]
  },
  {
   "cell_type": "code",
   "execution_count": null,
   "metadata": {},
   "outputs": [],
   "source": [
    "# Convex hull needs to be converted into a GeoDataFrame to be plotted. \n",
    "convex_hull_gdf = gpd.GeoDataFrame({'geometry': [access_node_gdf.unary_union.convex_hull]}, crs=access_node_gdf.crs)\n",
    "convex_hull_gdf"
   ]
  },
  {
   "cell_type": "code",
   "execution_count": null,
   "metadata": {},
   "outputs": [],
   "source": [
    "access_node_gdf.crs"
   ]
  },
  {
   "cell_type": "code",
   "execution_count": null,
   "metadata": {},
   "outputs": [],
   "source": [
    "fig, ax = plt.subplots(figsize=(7,7))\n",
    "\n",
    "ax.plot(stadium.longitude, stadium.latitude, c='green', marker='o')  # Stadium point\n",
    "access_node_gdf.plot(ax=ax, color='black', markersize=5)  # Nodes within 2km from the stadium\n",
    "convex_hull_gdf.boundary.plot(ax=ax, color='green')  # Convex hull\n",
    "\n",
    "# The below is just for plotting purposes\n",
    "_temp_buffer = stadium_gdf.buffer(2000)\n",
    "_temp_buffer_gcs = _temp_buffer.to_crs(epsg=4326) # Project to WGS84\n",
    "edges.loc[edges.intersects(_temp_buffer_gcs[0])].plot(ax=ax, color='grey', linewidth=0.5)  # Roads within 2km from the stadium"
   ]
  },
  {
   "cell_type": "markdown",
   "metadata": {},
   "source": [
    "## 4.3. Select census blocks that are within the convex hull\n",
    "\n",
    "Syntax to select census blocks that are within the convex hull\n",
    "```python\n",
    "`RETURN GDF` = `CENSUS BLOCK GDF`.loc[`CENSUS BLOCK GDF`['geometry'].within(`A SINGLE GEOMETRY`)] \n",
    "```"
   ]
  },
  {
   "cell_type": "code",
   "execution_count": null,
   "metadata": {},
   "outputs": [],
   "source": [
    "# Reload the census blocks\n",
    "gf_block_gcs = gpd.read_file('./data/gf_census_block.geojson')\n",
    "gf_block_gcs.head(3)"
   ]
  },
  {
   "cell_type": "code",
   "execution_count": null,
   "metadata": {},
   "outputs": [],
   "source": [
    "# Select the census blocks that are within the convex hull\n",
    "block_within_convex_hull = gf_block_gcs.loc[gf_block_gcs.within(convex_hull_gdf.geometry[0])]\n",
    "\n",
    "# Select the census blocks that are outside the convex hull using the ~ (tilde) operator\n",
    "block_outside_convex_hull = gf_block_gcs.loc[~gf_block_gcs.within(convex_hull_gdf.geometry[0])]"
   ]
  },
  {
   "cell_type": "code",
   "execution_count": null,
   "metadata": {},
   "outputs": [],
   "source": [
    "# Plot results\n",
    "\n",
    "fig, axes = plt.subplots(1, 2, figsize=(15, 7))\n",
    "\n",
    "# Euclidean distance results\n",
    "block_2km_access_2.plot(color='lightgreen', ax=axes[0])\n",
    "block_2km_no_access_2.plot(color='lightcoral', ax=axes[0])\n",
    "stadium_gdf.plot(ax=axes[0], color='green')\n",
    "stadium_2km_buffer.boundary.plot(ax=axes[0], color='green', alpha=0.5)\n",
    "axes[0].set_title(f'Within 2KM Euclidean Distance ({block_2km_access_2.shape[0]} Blocks Selected)')\n",
    "\n",
    "axes[1].plot(stadium.longitude, stadium.latitude, c='green', marker='o')  # Stadium point\n",
    "convex_hull_gdf.boundary.plot(ax=axes[1], color='green')  # Convex hull\n",
    "block_within_convex_hull.plot(ax=axes[1], color='lightgreen')  # Blocks within the convex hull\n",
    "block_outside_convex_hull.plot(ax=axes[1], color='lightcoral')  # Blocks outside the convex hull\n",
    "axes[1].set_title(f'Within 2KM Manhattan Distance ({block_within_convex_hull.shape[0]} Blocks Selected)')\n",
    "\n",
    "plt.show()"
   ]
  },
  {
   "cell_type": "code",
   "execution_count": null,
   "metadata": {},
   "outputs": [],
   "source": [
    "# Summary\n",
    "\n",
    "# Initate a geocoding engine\n",
    "geolocator = geopy.geocoders.Nominatim(user_agent=\"my_first_geocoder\")\n",
    "\n",
    "# Geocode the address of Ralph Engelstad Arena\n",
    "stadium = geolocator.geocode(\"775 Hamline St, Grand Forks, ND 58203\")\n",
    "\n",
    "# Snap the stadium and dorm to the nearest OSM node\n",
    "stadium_nearest_node = ox.distance.nearest_nodes(G, stadium.longitude, stadium.latitude) # OSMID nearest to stadium\n",
    "print(\"Nearest Node's OSMID from Stadium:\", stadium_nearest_node)\n",
    "\n",
    "# Select the nodes that are within 2km from the stadium\n",
    "temp_manhattan_dist = nx.single_source_dijkstra_path_length(G, stadium_nearest_node, cutoff=2000, weight='length')\n",
    "\n",
    "# Select the node geometry that are within 2km from the stadium\n",
    "access_node_gdf = nodes.loc[nodes.index.isin(list(temp_manhattan_dist.keys()))]\n",
    "\n",
    "# Convex hull needs to be converted into a GeoDataFrame to be plotted. \n",
    "convex_hull_gdf = gpd.GeoDataFrame({'geometry': [access_node_gdf.unary_union.convex_hull]}, crs=access_node_gdf.crs)\n",
    "\n",
    "# Select census block that are within / outside the convex hull\n",
    "block_within_convex_hull = gf_block_gcs.loc[gf_block_gcs.within(convex_hull_gdf.geometry[0])]\n",
    "block_outside_convex_hull = gf_block_gcs.loc[~gf_block_gcs.within(convex_hull_gdf.geometry[0])]"
   ]
  },
  {
   "cell_type": "markdown",
   "metadata": {},
   "source": [
    "---\n",
    "### *Exercise*\n",
    "6. (5 points) Calculate accessible locations via Manhattan Distance of 1km.\n",
    "* Get the nearest OSM Node ID from the stadium longitude (-97.06912354887743) and latitude (47.927281818943364) and save the result to `stadium_osmid`.\n",
    "* Calculate the accessible OSM nodes within 1km from the stadium and save the result to `nodes_1km`\n",
    "* Get the geometry of accessible nodes from `nodes` GeoDataFrame and save the result to `nodes_1km_gdf`\n",
    "\n",
    "```python\n",
    "# Get the nearest OSM Node ID from the stadium longitude and latitude\n",
    "stadium_osmid = ox.distance.nearest_nodes(G, `LONGITUDE`, `LATITUDE`)\n",
    "\n",
    "# Calculate the accessible OSM nodes within 1km from the stadium\n",
    "nodes_1km = nx.single_source_dijkstra_path_length(G, `OSM ID OF THE STADIUM`, cutoff=`DISTANCE IN METERS`, weight='length')\n",
    "\n",
    "# Get the geometry of accessible nodes from `nodes` GeoDataFrame\n",
    "nodes_1km_gdf = nodes.loc[]\n",
    "```\n",
    "\n",
    "---"
   ]
  },
  {
   "cell_type": "code",
   "execution_count": null,
   "metadata": {},
   "outputs": [],
   "source": [
    "# # Your code here\n",
    "\n",
    "# Get the nearest OSM Node ID from the stadium longitude and latitude\n",
    "stadium_osmid = ox.distance.nearest_nodes(G, `LONGITUDE`, `LATITUDE`)\n",
    "\n",
    "# Calculate the accessible OSM nodes within 1km from the stadium\n",
    "nodes_1km = nx.single_source_dijkstra_path_length(G, `OSM ID OF THE STADIUM`, cutoff=`DISTANCE IN METERS`, weight='length')\n",
    "\n",
    "# Get the geometry of accessible nodes from `nodes` GeoDataFrame\n",
    "nodes_1km_gdf = nodes.loc[]"
   ]
  },
  {
   "cell_type": "code",
   "execution_count": null,
   "metadata": {},
   "outputs": [],
   "source": [
    "\"\"\" Test code for the previous function. \n",
    "This cell should NOT give any errors when it is run.\"\"\"\n",
    "\n",
    "assert stadium_osmid == 75861583\n",
    "assert len(nodes_1km) == 80\n",
    "assert round(nodes_1km[75921119]) == 995\n",
    "assert nodes_1km_gdf.shape[0] == 80\n",
    "\n",
    "print(\"Success!\")"
   ]
  },
  {
   "cell_type": "markdown",
   "metadata": {},
   "source": [
    "---\n",
    "### *Exercise*\n",
    "\n",
    "7. (5 points) Create a Convex Hull and select accessible census blocks\n",
    "* Create a convex hull from `nodes_1km_gdf` and save the result to `ch_1km`\n",
    "* Select census blocks (gf_block_gcs) that are WITHIN the convex hull (ch_1km) and save the result to `block_access_1km`\n",
    "* Select census blocks (gf_block_gcs) that are OUTSIDE the convex hull (ch_1km) and save the result to `block_no_access_1km`\n",
    "\n",
    "```python\n",
    "# Get Convex Hull from the accessible node geometries\n",
    "ch_1km = nodes_1km_gdf.`CREATE MULTIPOINT GEOMETRY`.`METHOD TO CREATE CONVEX HULL`\n",
    "\n",
    "# Select the census blocks that are within the convex hull\n",
    "block_access_1km = `CENSUS BLOCK GDF`.loc[`CENSUS BLOCK GDF`['geometry'].`SPATIAL OPERATION`(`A SINGLE GEOMETRY`)] \n",
    "\n",
    "# Select the census blocks that are outside the convex hull (take advantage of the `~` operator)\n",
    "block_no_access_1km = `CENSUS BLOCK GDF`.loc[`CENSUS BLOCK GDF`['geometry'].`SPATIAL OPERATION`(`A SINGLE GEOMETRY`)] \n",
    "\n",
    "```\n",
    "---"
   ]
  },
  {
   "cell_type": "code",
   "execution_count": null,
   "metadata": {},
   "outputs": [],
   "source": [
    "# # Your code here\n",
    "\n",
    "# Get Convex Hull from the accessible node geometries\n",
    "ch_1km = nodes_1km_gdf.`CREATE MULTIPOINT GEOMETRY`.`METHOD TO CREATE CONVEX HULL`\n",
    "\n",
    "# Select the census blocks that are within the convex hull\n",
    "block_access_1km = `CENSUS BLOCK GDF`.loc[`CENSUS BLOCK GDF`['geometry'].`SPATIAL OPERATION`(`A SINGLE GEOMETRY`)] \n",
    "\n",
    "# Select the census blocks that are outside the convex hull (take advantage of the `~` operator)\n",
    "block_no_access_1km = `CENSUS BLOCK GDF`.loc[`CENSUS BLOCK GDF`['geometry'].`SPATIAL OPERATION`(`A SINGLE GEOMETRY`)] \n"
   ]
  },
  {
   "cell_type": "code",
   "execution_count": null,
   "metadata": {},
   "outputs": [],
   "source": [
    "\"\"\" Test code for the previous function. \n",
    "This cell should NOT give any errors when it is run.\"\"\"\n",
    "\n",
    "assert round(ch_1km.area, 6) == 0.000193\n",
    "assert block_access_1km.shape[0] == 34\n",
    "assert block_no_access_1km.shape[0] == 1056\n",
    "\n",
    "print(\"Success!\")"
   ]
  },
  {
   "cell_type": "markdown",
   "metadata": {},
   "source": [
    "# 5. Calculate accessible area with multiple infrastructure"
   ]
  },
  {
   "cell_type": "code",
   "execution_count": null,
   "metadata": {},
   "outputs": [],
   "source": [
    "# Grocery stores in Grand Forks\n",
    "grocery_df = pd.read_csv('./data/grocery_gf.csv')\n",
    "grocery_df"
   ]
  },
  {
   "cell_type": "code",
   "execution_count": null,
   "metadata": {},
   "outputs": [],
   "source": [
    "# Calculate Geometry from the Longitude and Latitude\n",
    "grocery_gdf = gpd.GeoDataFrame(grocery_df, geometry=gpd.points_from_xy(grocery_df.Longitude, grocery_df.Latitude), crs='EPSG:4326')\n",
    "grocery_gdf.head(3)"
   ]
  },
  {
   "cell_type": "code",
   "execution_count": null,
   "metadata": {},
   "outputs": [],
   "source": [
    "# Load census blocks\n",
    "gf_block_gcs = gpd.read_file('./data/gf_census_block.geojson')\n",
    "gf_block_gcs"
   ]
  },
  {
   "cell_type": "code",
   "execution_count": null,
   "metadata": {},
   "outputs": [],
   "source": [
    "fig, ax = plt.subplots(figsize=(8, 8))\n",
    "gf_block_gcs.plot(ax=ax, color='lightgrey', edgecolor='grey')\n",
    "grocery_gdf.plot(ax=ax, color='blue')"
   ]
  },
  {
   "cell_type": "code",
   "execution_count": null,
   "metadata": {},
   "outputs": [],
   "source": [
    "# This function helps you to find the nearest OSM node from a given GeoDataFrame\n",
    "# If geom type is point, it will take it without modification, but \n",
    "# IF geom type is polygon or multipolygon, it will take its centroid to calculate the nearest element. \n",
    "\n",
    "def find_nearest_osm(network, gdf):\n",
    "\n",
    "    for idx, row in gdf.iterrows():\n",
    "        if row.geometry.geom_type == 'Point':\n",
    "            nearest_osm = ox.distance.nearest_nodes(network, \n",
    "                                                    X=row.geometry.x, \n",
    "                                                    Y=row.geometry.y\n",
    "                                                   )\n",
    "        elif row.geometry.geom_type == 'Polygon' or row.geometry.geom_type == 'MultiPolygon':\n",
    "            nearest_osm = ox.distance.nearest_nodes(network, \n",
    "                                        X=row.geometry.centroid.x, \n",
    "                                        Y=row.geometry.centroid.y\n",
    "                                       )\n",
    "        else:\n",
    "            print(row.geometry.geom_type)\n",
    "            continue\n",
    "\n",
    "        gdf.at[idx, 'nearest_osm'] = nearest_osm\n",
    "\n",
    "    gdf['nearest_osm'] = gdf['nearest_osm'].astype(int)\n",
    "\n",
    "    return gdf"
   ]
  },
  {
   "cell_type": "code",
   "execution_count": null,
   "metadata": {},
   "outputs": [],
   "source": [
    "grocery_gdf = find_nearest_osm(G, grocery_gdf)\n",
    "grocery_gdf"
   ]
  },
  {
   "cell_type": "code",
   "execution_count": null,
   "metadata": {},
   "outputs": [],
   "source": [
    "convex_hull_gdf = gpd.GeoDataFrame({'geometry': []}, crs=grocery_gdf.crs)\n",
    "\n",
    "for idx, row in grocery_gdf.iterrows():\n",
    "    temp_nodes = nx.single_source_dijkstra_path_length(G, row['nearest_osm'], cutoff=1000, weight='length')\n",
    "    temp_access_nodes = nodes.loc[nodes.index.isin(temp_nodes.keys()), 'geometry']\n",
    "    convex_hull_gdf.at[idx, 'geometry'] = temp_access_nodes.unary_union.convex_hull\n",
    "    convex_hull_gdf.at[idx, 'store_name'] = row['Name']\n",
    "\n",
    "convex_hull_gdf.explore()"
   ]
  },
  {
   "cell_type": "code",
   "execution_count": null,
   "metadata": {},
   "outputs": [],
   "source": [
    "grocery_access_1km = gf_block_gcs.loc[gf_block_gcs['geometry'].within(convex_hull_gdf.unary_union)]\n",
    "grocery_no_access_1km = gf_block_gcs.loc[~gf_block_gcs['geometry'].within(convex_hull_gdf.unary_union)]"
   ]
  },
  {
   "cell_type": "code",
   "execution_count": null,
   "metadata": {},
   "outputs": [],
   "source": [
    "fig, ax = plt.subplots(figsize=(7, 7))\n",
    "\n",
    "gpd.GeoDataFrame({'geometry': [convex_hull_gdf.unary_union]}, crs=grocery_gdf.crs).boundary.plot(ax=ax, color='blue', zorder=2)\n",
    "edges.plot(ax=ax, color='black', linewidth=0.5, zorder=1)\n",
    "grocery_gdf.plot(ax=ax, color='blue', markersize=10, zorder=3)\n",
    "grocery_access_1km.plot(ax=ax, color='lightgreen', zorder=0)\n",
    "grocery_no_access_1km.plot(ax=ax, color='lightcoral', zorder=0)"
   ]
  },
  {
   "cell_type": "markdown",
   "metadata": {},
   "source": [
    "# Done"
   ]
  }
 ],
 "metadata": {
  "kernelspec": {
   "display_name": "ox",
   "language": "python",
   "name": "python3"
  },
  "language_info": {
   "codemirror_mode": {
    "name": "ipython",
    "version": 3
   },
   "file_extension": ".py",
   "mimetype": "text/x-python",
   "name": "python",
   "nbconvert_exporter": "python",
   "pygments_lexer": "ipython3",
   "version": "3.11.5"
  }
 },
 "nbformat": 4,
 "nbformat_minor": 2
}
