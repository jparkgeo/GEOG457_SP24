{
 "cells": [
  {
   "cell_type": "markdown",
   "metadata": {},
   "source": [
    "# Urban Hierarchies of the United States using population and Gross Domestic Income (GDP) data\n",
    "\n",
    "This Jupyter notebook analyzes the urban hierarchy of the United States using population and Gross Domestic Income (GDP) data. For the analysis, this notebook utilizes varous Python packages: Pandas (https://pandas.pydata.org/), GeoPandas (https://geopandas.org/en/stable/#), Matplotlib (https://matplotlib.org/) and Scipy (https://scipy.org/). \n",
    "\n",
    "### Data: \n",
    "- County Geometry: https://www.census.gov/geographies/mapping-files/time-series/geo/tiger-line-file.html \n",
    "- County-level Population (American Community Survey): https://www.census.gov/programs-surveys/acs/data.html \n",
    "- County-level GDP (Bureau of Economic Analysis): https://www.bea.gov/data/gdp/gdp-county-metro-and-other-areas\n",
    "\n",
    "### Steps: \n",
    "1. Preprocessing County Geometry with GeoPandas <br>\n",
    "1.1. Read the shapefile using GeoPandas <br>\n",
    "1.2. Calculate two-digit State ID using county-level GEOID <br>\n",
    "1.3. Select counties only for conterminous United States <br>\n",
    "\n",
    "2. Preprocessing GDP data with Pandas <br>\n",
    "2.1. Load Excel File with Pandas <br>\n",
    "2.2. Check the data type of columns of the Pandas DataFrame and change the data type accordingly <br>\n",
    "2.3. Solve the problem of missing leading zero (e.g., Alabama: 01) <br>\n",
    "2.4. Select rows based on a condition <br>\n",
    "\n",
    "3. Plotting county-level GDP for the conterminous United States <br>\n",
    "3.1. Join (Merge) county geometry and GDP data <br>\n",
    "3.2. Make a choropleth map of GDP data <br>\n",
    "    - Classification\n",
    "    - Change colors\n",
    "    - Legend\n",
    "    - Change coordinate system\n",
    "    - Multiple layers\n",
    "\n",
    "4. Hands-on practice using population data with Pandas and GeoPandas  <br>\n",
    "4.1. Preprocessing the population data with Pandas <br>\n",
    "4.2. Plotting county-level population for the conterminous United States <br>\n",
    "\n"
   ]
  },
  {
   "cell_type": "markdown",
   "metadata": {},
   "source": [
    "# Import Packages\n",
    "A Python package is a way of organizing related Python modules into a single directory hierarchy. It provides a mechanism for grouping Python code files, resources, and configuration settings in a structured manner, making it easier to manage and distribute code. They also facilitate code reuse and distribution by allowing developers to bundle related functionality together and share it with others.\n",
    "\n",
    "We will be using the following packages in this notebook: <br>\n",
    "`pandas` is a Python package providing fast, flexible, and expressive data structures designed to make working with “relational” or “labeled” data both easy and intuitive. <br>\n",
    "source: https://pandas.pydata.org/docs/getting_started/overview.html\n",
    "\n",
    "`geopandas` is the geographic expansion of `pandas`, allowing to have geometry and working with vector data. <br>\n",
    "source: https://geopandas.org/en/stable/getting_started/introduction.html\n",
    "\n",
    "`matplotlib` provides a collection of functions that make plots and maps. Each pyplot function makes some change to a figure: e.g., creates a figure, creates a plotting area in a figure, plots some lines in a plotting area, decorates the plot with labels, etc. <br>\n",
    "source: https://matplotlib.org/stable/users/getting_started/"
   ]
  },
  {
   "cell_type": "code",
   "execution_count": null,
   "metadata": {},
   "outputs": [],
   "source": [
    "import geopandas as gpd\n",
    "import pandas as pd\n",
    "import matplotlib.pyplot as plt"
   ]
  },
  {
   "cell_type": "markdown",
   "metadata": {},
   "source": [
    "# 1. Preprocessing County Geometry with GeoPandas\n",
    "## 1.1. Read the shapefile using GeoPandas"
   ]
  },
  {
   "cell_type": "code",
   "execution_count": null,
   "metadata": {},
   "outputs": [],
   "source": [
    "# .read_file() method is used to read various spatial data formats (shapefile, GeoJSON, etc.)\n",
    "county_gdf = gpd.read_file('./data/county_simplified.shp')\n",
    "county_gdf"
   ]
  },
  {
   "cell_type": "code",
   "execution_count": null,
   "metadata": {},
   "outputs": [],
   "source": [
    "# When you import a spatial data, the type of the object is a GeoDataFrame\n",
    "type(county_gdf)"
   ]
  },
  {
   "cell_type": "code",
   "execution_count": null,
   "metadata": {},
   "outputs": [],
   "source": [
    "county_gdf.columns"
   ]
  },
  {
   "cell_type": "code",
   "execution_count": null,
   "metadata": {},
   "outputs": [],
   "source": [
    "county_gdf['GEOID']"
   ]
  },
  {
   "cell_type": "code",
   "execution_count": null,
   "metadata": {},
   "outputs": [],
   "source": [
    "# You can use .plot() method to plot the GeoDataFrame. If there is no 'geometry' column, it will plot a numerical values.\n",
    "county_gdf.plot()"
   ]
  },
  {
   "cell_type": "code",
   "execution_count": null,
   "metadata": {},
   "outputs": [],
   "source": [
    "county_gdf.crs"
   ]
  },
  {
   "cell_type": "markdown",
   "metadata": {},
   "source": [
    "## 1.2. Calculate two-digit State ID using five-digit county-level GEOID\n",
    "\n",
    "Since the US has territory outside of the conterminous United States (e.g., Hawaii, Puerto Rico), so we need to use the two-digit state code to select the counties in the conterminous United States."
   ]
  },
  {
   "cell_type": "code",
   "execution_count": null,
   "metadata": {},
   "outputs": [],
   "source": [
    "# .iterrows() method is used to iterate over the rows of a DataFrame. It returns an iterator containing index of each row and the data in each row as a Series.\n",
    "for idx, row in county_gdf.iterrows():\n",
    "\n",
    "    # .at[] method is used to access a single value for a row/column label pair.\n",
    "    # row['GEOID'] is a string, so we can use string slicing to get the first two characters of the string.\n",
    "    county_gdf.at[idx, 'STATE'] = row['GEOID'][0:2]\n",
    "\n",
    "county_gdf"
   ]
  },
  {
   "cell_type": "markdown",
   "metadata": {},
   "source": [
    "## 1.3. Select counties only for conterminous United States"
   ]
  },
  {
   "cell_type": "code",
   "execution_count": null,
   "metadata": {},
   "outputs": [],
   "source": [
    "# GEOID for Conterminous US States (Lower 48 States)\n",
    "lower_48_states = ['01', '04', '05', '06', '08', '09', '10', '11', '12', '13', '16', '17', '18', '19', '20',\n",
    "                   '21', '22', '23', '24', '25', '26', '27', '28', '29', '30', '31', '32', '33', '34', '35', \n",
    "                   '36', '37', '38', '39', '40', '41', '42', '44', '45', '46', '47', '48', '49', '50', '51', \n",
    "                   '53', '54', '55', '56']"
   ]
  },
  {
   "cell_type": "code",
   "execution_count": null,
   "metadata": {},
   "outputs": [],
   "source": [
    "# It is possible to compare the value within the Series to a list of values or a single value. The result is a boolean Series.\n",
    "county_gdf['STATE'] == '38' # North Dakota"
   ]
  },
  {
   "cell_type": "code",
   "execution_count": null,
   "metadata": {},
   "outputs": [],
   "source": [
    "# .loc method is used to access a group of rows and columns by label(s) or a boolean array.\n",
    "county_gdf.loc[county_gdf['STATE'] == '38']"
   ]
  },
  {
   "cell_type": "code",
   "execution_count": null,
   "metadata": {},
   "outputs": [],
   "source": [
    "# It is also possible to use the .isin() method to filter a DataFrame based on a list of values.\n",
    "county_gdf = county_gdf.loc[county_gdf['STATE'].isin(lower_48_states)]\n",
    "county_gdf"
   ]
  },
  {
   "cell_type": "code",
   "execution_count": null,
   "metadata": {},
   "outputs": [],
   "source": [
    "# Displaying the entire DataFrame takes lots of spaces, so we can use the .head() method to display the first five rows of the DataFrame.\n",
    "county_gdf.head()"
   ]
  },
  {
   "cell_type": "code",
   "execution_count": null,
   "metadata": {},
   "outputs": [],
   "source": [
    "# You can use .plot() method to plot the GeoDataFrame. If there is no 'geometry' column, it will plot a numerical values.\n",
    "county_gdf.plot()"
   ]
  },
  {
   "cell_type": "markdown",
   "metadata": {},
   "source": [
    "---\n",
    "### *Exercise*\n",
    "1. (4 points) The following in the syntax for the `loc` function in Pandas. Select rows for New York State (State ID: 36) and assign it to a new variable called `ny_gdf`. <br>\n",
    "\n",
    "    ```python\n",
    "    ny_gdf = county_gdf.loc[county_gdf['COLUMN NAME'] == 'STATE ID']\n",
    "    ```\n",
    "\n",
    "---"
   ]
  },
  {
   "cell_type": "code",
   "execution_count": null,
   "metadata": {},
   "outputs": [],
   "source": [
    "# Your code here\n",
    "\n",
    "ny_gdf = county_gdf.loc[county_gdf['COLUMN NAME'] == 'STATE ID']\n",
    "ny_gdf\n"
   ]
  },
  {
   "cell_type": "code",
   "execution_count": null,
   "metadata": {},
   "outputs": [],
   "source": [
    "\"\"\" Test code for the previous function. \n",
    "This cell should NOT give any errors when it is run.\"\"\"\n",
    "\n",
    "assert ny_gdf['STATE'].unique() == '36'\n",
    "assert ny_gdf.shape[0] == 62\n",
    "\n",
    "print(\"Success!\")"
   ]
  },
  {
   "cell_type": "markdown",
   "metadata": {},
   "source": [
    "# 2. Preprocessing GDP data with Pandas\n",
    "## 2.1. Load Excel File with Pandas"
   ]
  },
  {
   "cell_type": "code",
   "execution_count": null,
   "metadata": {},
   "outputs": [],
   "source": [
    "# To read a Excel file, you can use `pandas` package and .read_excel() method.\n",
    "# You can also use .read_csv() method to read a CSV file.\n",
    "# the output of .read_excel() and .read_csv() method is a DataFrame\n",
    "gdp_df = pd.read_excel('data/GDP_data_cleaned.xlsx')\n",
    "gdp_df"
   ]
  },
  {
   "cell_type": "code",
   "execution_count": null,
   "metadata": {},
   "outputs": [],
   "source": [
    "type(gdp_df)"
   ]
  },
  {
   "cell_type": "markdown",
   "metadata": {},
   "source": [
    "## 2.2. Check the data type of columns of the Pandas DataFrame and change the data type accordingly"
   ]
  },
  {
   "cell_type": "code",
   "execution_count": null,
   "metadata": {},
   "outputs": [],
   "source": [
    "# Using .dtypes attribute, you can check the data type of each column.\n",
    "gdp_df.dtypes"
   ]
  },
  {
   "cell_type": "code",
   "execution_count": null,
   "metadata": {},
   "outputs": [],
   "source": [
    "# Since the 'GeoFips' column is a numerical value, we need to convert it to a string.\n",
    "# You can use .astype() method to convert the data type of a column.\n",
    "gdp_df['GeoFips'] = gdp_df['GeoFips'].astype(str)\n",
    "gdp_df.dtypes"
   ]
  },
  {
   "cell_type": "markdown",
   "metadata": {},
   "source": [
    "## 2.3. Solve the problem of missing leading zero (e.g., Alabama: 01)\n",
    "\n",
    "You will notice that the entry of GeoFips column is missing the leading zero for the state code. For example, the state code for Alabama is '01', but the entry of GeoFips column is '1' (no leading zero). It is a common problem when you save string into excel or csv file. Now, we need to add the leading zero to the state code."
   ]
  },
  {
   "cell_type": "code",
   "execution_count": null,
   "metadata": {},
   "outputs": [],
   "source": [
    "gdp_df"
   ]
  },
  {
   "cell_type": "code",
   "execution_count": null,
   "metadata": {},
   "outputs": [],
   "source": [
    "# .iterrows() method is used to iterate over the rows of a DataFrame. It returns an iterator containing index of each row and the data in each row as a Series.\n",
    "for idx, row in gdp_df.iterrows():\n",
    "    \n",
    "    # Check the length of the GeoFips column (i.e., len(row['GeoFips']))\n",
    "    if len(row['GeoFips']) == 4: # if the length of the GeoFips column is 4, it means that there is a missing leading zero.\n",
    "        gdp_df.at[idx, 'GEOID'] = '0' + row['GeoFips'] # add a leading zero to the GeoFips column\n",
    "    elif len(row['GeoFips']) == 5: # if the length of the GeoFips column is 5, it means that there is no missing leading zero.\n",
    "        gdp_df.at[idx, 'GEOID'] = row['GeoFips']\n",
    "    else:  # You can also check if there are any unexpected length of GeoFips column.\n",
    "        print('Unexpected Length of GeoFips')\n",
    "\n",
    "gdp_df"
   ]
  },
  {
   "cell_type": "markdown",
   "metadata": {},
   "source": [
    "## 2.4. Select rows based on a condition\n",
    "\n",
    "Each county has three records (Real GDP, Chain-type quantity indexes for real GDP, Current-dollar GDP) with the same value of GeoFips. We only need the record of Real GDP. So, we need to select the rows based on the value of Line Code column (Real GDP has the value of 1 in the `LineCode` column)."
   ]
  },
  {
   "cell_type": "markdown",
   "metadata": {},
   "source": [
    ".loc method syntax is `df.loc[row condition, column condition]`. <br>\n",
    "You can enter the list of columns you want to select in the column condition. If you want to select all columns, you can use `:`."
   ]
  },
  {
   "cell_type": "code",
   "execution_count": null,
   "metadata": {},
   "outputs": [],
   "source": [
    "gdp_df = gdp_df.loc[gdp_df['LineCode'] == 1, ['GEOID', 'GeoName', 'GDP']]\n",
    "gdp_df"
   ]
  },
  {
   "cell_type": "markdown",
   "metadata": {},
   "source": [
    "# 3. Plotting county-level GDP for the conterminous United States\n",
    "## 3.1. Join (Merge) county geometry and GDP data\n",
    "\n",
    "Currently, `county_gdf` has geometry data and `gdp_df` has GDP data. We need to join (merge) these two datasets to make a choropleth map."
   ]
  },
  {
   "cell_type": "code",
   "execution_count": null,
   "metadata": {},
   "outputs": [],
   "source": [
    "# Checking `count_gdf`\n",
    "county_gdf"
   ]
  },
  {
   "cell_type": "code",
   "execution_count": null,
   "metadata": {},
   "outputs": [],
   "source": [
    "# Checking `gdp_df`\n",
    "gdp_df"
   ]
  },
  {
   "cell_type": "markdown",
   "metadata": {},
   "source": [
    "Both `county_gdf` and `gdp_df` have the column of `GEOID`, so that it can be used for the join. "
   ]
  },
  {
   "cell_type": "code",
   "execution_count": null,
   "metadata": {},
   "outputs": [],
   "source": [
    "# It is also recommend to check the data type of the column(s) that you want to merge.\n",
    "gdp_df.dtypes"
   ]
  },
  {
   "cell_type": "code",
   "execution_count": null,
   "metadata": {},
   "outputs": [],
   "source": [
    "county_gdf.dtypes"
   ]
  },
  {
   "cell_type": "markdown",
   "metadata": {},
   "source": [
    "Merge (join) method syntax is `df1.merge(df2, on='COLUMN NAME')`. <br>\n",
    "\n",
    "resource: https://pandas.pydata.org/docs/reference/api/pandas.DataFrame.merge.html"
   ]
  },
  {
   "cell_type": "code",
   "execution_count": null,
   "metadata": {},
   "outputs": [],
   "source": [
    "gdp_gdf = county_gdf.merge(gdp_df, on='GEOID', how='left')\n",
    "gdp_gdf"
   ]
  },
  {
   "cell_type": "code",
   "execution_count": null,
   "metadata": {},
   "outputs": [],
   "source": [
    "# Since we did the left-join, there are some missing values in the GDP column.\n",
    "# The following code is to select the rows that have missing values (NULL/NaN value ) in the GDP column.\n",
    "\n",
    "gdp_gdf.loc[gdp_gdf['GDP'].isna()]"
   ]
  },
  {
   "cell_type": "code",
   "execution_count": null,
   "metadata": {},
   "outputs": [],
   "source": [
    "# We can simply replace the NaN values with 0, using .fillna() method.\n",
    "gdp_gdf['GDP'] = gdp_gdf['GDP'].fillna(0)"
   ]
  },
  {
   "cell_type": "code",
   "execution_count": null,
   "metadata": {},
   "outputs": [],
   "source": [
    "# NaN values are gone!\n",
    "gdp_gdf.loc[gdp_gdf['GDP'].isna()]"
   ]
  },
  {
   "cell_type": "code",
   "execution_count": null,
   "metadata": {},
   "outputs": [],
   "source": [
    "gdp_gdf"
   ]
  },
  {
   "cell_type": "markdown",
   "metadata": {},
   "source": [
    "## 3.2. Make a choropleth map of GDP data \n",
    "\n",
    "GeoDataFrame has a built-in function called `plot` to make a choropleth map. <br>\n",
    "\n",
    "Syntax: `GeoDataFrame.plot(column='COLUMN NAME', cmap='COLOR MAP NAME', legend=True, figsize=(WIDTH, HEIGHT))`"
   ]
  },
  {
   "cell_type": "code",
   "execution_count": null,
   "metadata": {},
   "outputs": [],
   "source": [
    "gdp_gdf.plot(column='GDP', figsize=(10,10), legend=True)"
   ]
  },
  {
   "cell_type": "markdown",
   "metadata": {},
   "source": [
    "`camp` attribute is used to change the color map. <br>\n",
    "various color maps: https://matplotlib.org/stable/users/explain/colors/colormaps.html"
   ]
  },
  {
   "cell_type": "code",
   "execution_count": null,
   "metadata": {},
   "outputs": [],
   "source": [
    "gdp_gdf.plot(column='GDP', cmap='Blues', figsize=(10,10), legend=True)"
   ]
  },
  {
   "cell_type": "markdown",
   "metadata": {},
   "source": [
    "`scheme` attribute is used to change the classification method. <br>\n",
    "various classification methods: https://pysal.org/mapclassify/api.html"
   ]
  },
  {
   "cell_type": "code",
   "execution_count": null,
   "metadata": {},
   "outputs": [],
   "source": [
    "gdp_gdf.plot(column='GDP', cmap='Blues', scheme='NaturalBreaks', figsize=(10,10), legend=True)"
   ]
  },
  {
   "cell_type": "code",
   "execution_count": null,
   "metadata": {},
   "outputs": [],
   "source": [
    "gdp_gdf.plot(column='GDP', cmap='Blues', scheme='NaturalBreaks', figsize=(10,10), legend=True, k=7)"
   ]
  },
  {
   "cell_type": "markdown",
   "metadata": {},
   "source": [
    "The current coordinate system of `gdp_gdf` is NAD83, and we want to change it to a Projected Coordinate System. <br>\n",
    "You can use `to_crs` function to change the coordinate system based on a epsg code. <br>\n",
    "You can find the EPSG code of the coordinate system you want to use from https://epsg.io/. <br>"
   ]
  },
  {
   "cell_type": "code",
   "execution_count": null,
   "metadata": {},
   "outputs": [],
   "source": [
    "gdp_gdf = gdp_gdf.to_crs(epsg=5070)\n",
    "gdp_gdf.plot(column='GDP', cmap='Blues', scheme='NaturalBreaks', figsize=(10,10), legend=True, k=7)"
   ]
  },
  {
   "cell_type": "markdown",
   "metadata": {},
   "source": [
    "The current map is missing the state boundary, making the interpretation of the map difficult. <br>\n",
    "We can create a new layer of state boundary using `state_gdf` and add it to the current map. <br>"
   ]
  },
  {
   "cell_type": "code",
   "execution_count": null,
   "metadata": {},
   "outputs": [],
   "source": [
    "county_gdf"
   ]
  },
  {
   "cell_type": "code",
   "execution_count": null,
   "metadata": {},
   "outputs": [],
   "source": [
    "# .dissolve() method is used to dissolve a GeoDataFrame based on a column.\n",
    "state_gdf = county_gdf.dissolve('STATE')\n",
    "state_gdf"
   ]
  },
  {
   "cell_type": "code",
   "execution_count": null,
   "metadata": {},
   "outputs": [],
   "source": [
    "state_gdf.plot()"
   ]
  },
  {
   "cell_type": "code",
   "execution_count": null,
   "metadata": {},
   "outputs": [],
   "source": [
    "# To overlay two layers, we need to match the crs of the state_gdf to the crs of the gdp_gdf.\n",
    "state_gdf = state_gdf.to_crs(epsg=5070)\n",
    "state_gdf.plot()"
   ]
  },
  {
   "cell_type": "code",
   "execution_count": null,
   "metadata": {},
   "outputs": [],
   "source": [
    "# You can use .boundary attribute to get the boundary of the GeoDataFrame.\n",
    "state_gdf.boundary.plot()"
   ]
  },
  {
   "cell_type": "code",
   "execution_count": null,
   "metadata": {},
   "outputs": [],
   "source": [
    "fig, ax = plt.subplots(figsize=(10,10))\n",
    "\n",
    "gdp_gdf.plot(column='GDP', cmap='Blues', scheme='NaturalBreaks', figsize=(10,10), legend=True, k=7, ax=ax, legend_kwds={'loc': 'lower left'})\n",
    "state_gdf.boundary.plot(ax=ax, color='black', linewidth=0.5, alpha=0.5)\n",
    "plt.show()"
   ]
  },
  {
   "cell_type": "markdown",
   "metadata": {},
   "source": [
    "To see the top 10 counties with the highest GDP, we can sort the GeoDataFrame by the GDP column and select the top 10 rows. <br>\n",
    "\n",
    "syntax: `GeoDataFrame.sort_values(by='COLUMN NAME', ascending=False)`"
   ]
  },
  {
   "cell_type": "code",
   "execution_count": null,
   "metadata": {},
   "outputs": [],
   "source": [
    "gdp_gdf = gdp_gdf.sort_values(by='GDP', ascending=False)\n",
    "gdp_gdf.head(10)"
   ]
  },
  {
   "cell_type": "markdown",
   "metadata": {},
   "source": [
    "# Summary\n",
    "\n",
    "the following is the backbone of the code for the analysis. <br>"
   ]
  },
  {
   "cell_type": "code",
   "execution_count": null,
   "metadata": {},
   "outputs": [],
   "source": [
    "import geopandas as gpd\n",
    "import pandas as pd\n",
    "import matplotlib.pyplot as plt\n",
    "\n",
    "# Read the county shapefile\n",
    "county_gdf = gpd.read_file('./data/county_simplified.shp')\n",
    "\n",
    "# Assign the first two characters of the GEOID column to the STATE column\n",
    "for idx, row in county_gdf.iterrows():\n",
    "    county_gdf.at[idx, 'STATE'] = row['GEOID'][0:2]\n",
    "\n",
    "# GEOID for Conterminous US States (Lower 48 States)\n",
    "lower_48_states = ['01', '04', '05', '06', '08', '09', '10', '11', '12', '13', '16', '17', '18', '19', '20',\n",
    "                   '21', '22', '23', '24', '25', '26', '27', '28', '29', '30', '31', '32', '33', '34', '35', \n",
    "                   '36', '37', '38', '39', '40', '41', '42', '44', '45', '46', '47', '48', '49', '50', '51', \n",
    "                   '53', '54', '55', '56']\n",
    "\n",
    "\n",
    "# It is also possible to use the .isin() method to filter a DataFrame based on a list of values.\n",
    "county_gdf = county_gdf.loc[county_gdf['STATE'].isin(lower_48_states)]\n",
    "county_gdf"
   ]
  },
  {
   "cell_type": "code",
   "execution_count": null,
   "metadata": {},
   "outputs": [],
   "source": [
    "# Read the GDP Excel data\n",
    "gdp_df = pd.read_excel('data/GDP_data_cleaned.xlsx')\n",
    "\n",
    "# convert the GeoFips column to string\n",
    "gdp_df['GeoFips'] = gdp_df['GeoFips'].astype(str) \n",
    "\n",
    "# Add a leading zero to the GeoFips column if the length of the GeoFips column is 4\n",
    "for idx, row in gdp_df.iterrows():\n",
    "    if len(row['GeoFips']) == 4: \n",
    "        gdp_df.at[idx, 'GEOID'] = '0' + row['GeoFips'] \n",
    "    elif len(row['GeoFips']) == 5: \n",
    "        gdp_df.at[idx, 'GEOID'] = row['GeoFips']\n",
    "    else:  \n",
    "        print('Unexpected Length of GeoFips')\n",
    "\n",
    "gdp_df"
   ]
  },
  {
   "cell_type": "code",
   "execution_count": null,
   "metadata": {},
   "outputs": [],
   "source": [
    "# Join the county GeoDataFrame (county_gdf) and the GDP DataFrame (gdp_df)\n",
    "gdp_gdf = county_gdf.merge(gdp_df, on='GEOID', how='left')\n",
    "\n",
    "# Fill the NaN values in the GDP column with 0\n",
    "gdp_gdf['GDP'] = gdp_gdf['GDP'].fillna(0)\n",
    "\n",
    "# Change coordinate system for better visualization\n",
    "gdp_gdf = gdp_gdf.to_crs(epsg=5070)\n",
    "\n",
    "gdp_gdf"
   ]
  },
  {
   "cell_type": "code",
   "execution_count": null,
   "metadata": {},
   "outputs": [],
   "source": [
    "# .dissolve() method is used to dissolve a GeoDataFrame based on a column.\n",
    "state_gdf = county_gdf.dissolve('STATE')\n",
    "\n",
    "# To overlay two layers, we need to match the crs of the state_gdf to the crs of the gdp_gdf.\n",
    "state_gdf = state_gdf.to_crs(epsg=5070)\n"
   ]
  },
  {
   "cell_type": "code",
   "execution_count": null,
   "metadata": {},
   "outputs": [],
   "source": [
    "# Plot the GDP by county\n",
    "\n",
    "fig, ax = plt.subplots(figsize=(10,10))\n",
    "\n",
    "gdp_gdf.plot(column='GDP', cmap='Blues', scheme='NaturalBreaks', figsize=(10,10), legend=True, k=7, ax=ax, legend_kwds={'loc': 'lower left'})\n",
    "state_gdf.boundary.plot(ax=ax, color='black', linewidth=0.5, alpha=0.5)\n",
    "\n",
    "plt.show()"
   ]
  },
  {
   "cell_type": "markdown",
   "metadata": {},
   "source": [
    "# 4. Hands-on practice using population data with Pandas and GeoPandas\n",
    "\n",
    "For this section, you will be using the population data to make a choropleth map of population for the conterminous United States. <br>\n",
    "The major structure will be very similar to the GDP map. If you are stuck, you can consult with the summary above<br>\n",
    "To complete the hands-on practice, please follow the steps below. <br>"
   ]
  },
  {
   "cell_type": "markdown",
   "metadata": {},
   "source": [
    "## 4.1. Preprocessing the population data with Pandas "
   ]
  },
  {
   "cell_type": "code",
   "execution_count": null,
   "metadata": {},
   "outputs": [],
   "source": [
    "# Read the population data from the American Community Survey (ACS)\n",
    "pop_df = pd.read_csv('./data/ACSDP5Y2020.DP05-Data.csv')\n",
    "pop_df"
   ]
  },
  {
   "cell_type": "markdown",
   "metadata": {},
   "source": [
    "---\n",
    "### *Exercise*\n",
    "2. (5 points) The following in the syntax for the `loc` function in Pandas. Select three columns ('GEO_ID', 'NAME', 'DP05_001E') for `pop_df` and assign the selection back to `pop_df` <br>\n",
    "\n",
    "    'GEO_ID' is the IDs of counties <br>\n",
    "    'NAME' is the county name. <br>\n",
    "    'DP05_001E' is the population per county. <br>\n",
    "\n",
    "    ```python\n",
    "    `DataFrame` = `DataFrame`.loc[row condition, column condition]\n",
    "    ```\n",
    "---"
   ]
  },
  {
   "cell_type": "code",
   "execution_count": null,
   "metadata": {},
   "outputs": [],
   "source": [
    "# Your code here\n",
    "pop_df = pop_df.loc['ROW CONDITION', 'COLUMN CONDITION']\n",
    "pop_df"
   ]
  },
  {
   "cell_type": "code",
   "execution_count": null,
   "metadata": {},
   "outputs": [],
   "source": [
    "\"\"\" Test code for the previous function. \n",
    "This cell should NOT give any errors when it is run.\"\"\"\n",
    "\n",
    "assert pop_df.columns.to_list() == ['GEO_ID', 'NAME', 'DP05_0001E']\n",
    "assert pop_df.shape == (3221, 3)\n",
    "\n",
    "print(\"Success!\")"
   ]
  },
  {
   "cell_type": "markdown",
   "metadata": {},
   "source": [
    "---\n",
    "### *Exercise*\n",
    "3. Get the two-digit state ID and five-digit county ID from the `GEO_ID` column. Currently the information in the `GEO_ID` column is something like '0500000US01001'. <br>\n",
    "3.1. (3 points) Iterate through population dataframe (`pop_df`) using for loop and .iterrows() method. <br><br>\n",
    "3.2. (3 points) Within the for loop, slice the information in the `GEO_ID` column using its index to get the two-digit state ID and five-digit county ID. For the five-digit county ID, you can assign it to `GEOID` column and two-digit state ID need to be assigned to `STATE` column. <br>\n",
    "Hint: df.at[index, 'COLUMN NAME'] = 'VALUE' <br>\n",
    "\n",
    "\n",
    "Expected results are as follows: <br>\n",
    "<img src=\"./images/q3.jpg\">\n",
    "---"
   ]
  },
  {
   "cell_type": "code",
   "execution_count": null,
   "metadata": {},
   "outputs": [],
   "source": [
    "# Your code here\n",
    "\n",
    "pop_df"
   ]
  },
  {
   "cell_type": "code",
   "execution_count": null,
   "metadata": {},
   "outputs": [],
   "source": [
    "\"\"\" Test code for the previous function. \n",
    "This cell should NOT give any errors when it is run.\"\"\"\n",
    "\n",
    "assert 'STATE' in pop_df.columns.to_list()\n",
    "assert 'GEOID' in pop_df.columns.to_list()\n",
    "assert pop_df.at[0, 'STATE'] == '01'\n",
    "assert pop_df.shape == (3221, 5)\n",
    "\n",
    "print(\"Success!\")"
   ]
  },
  {
   "cell_type": "markdown",
   "metadata": {},
   "source": [
    "The following cell is to select counties for the conterminous United States. <br>"
   ]
  },
  {
   "cell_type": "code",
   "execution_count": null,
   "metadata": {},
   "outputs": [],
   "source": [
    "pop_df = pop_df.loc[pop_df['STATE'].isin(lower_48_states)].reset_index(drop=True)\n",
    "pop_df"
   ]
  },
  {
   "cell_type": "markdown",
   "metadata": {},
   "source": [
    "## 4.2. Plotting county-level population for the conterminous United States"
   ]
  },
  {
   "cell_type": "markdown",
   "metadata": {},
   "source": [
    "---\n",
    "### *Exercise*\n",
    "4. (5 points) Join `county_gdf` and `pop_df` using the `.merge()` method. Merge method syntax is `df1.merge(df2, on='COLUMN NAME', how='left')`. <br>\n",
    "You want you merge `pop_df` into `county_gdf` based on the `GEOID` column, and assigned the result into a new GeoDataFrame with the name of `pop_gdf`. <br>\n",
    "<br>\n",
    "resource: https://pandas.pydata.org/docs/reference/api/pandas.DataFrame.merge.html\n",
    "\n",
    "Expected results are as follows: <br>\n",
    "<img src=\"./images/q4.jpg\">\n",
    "\n",
    "---\n",
    "\n"
   ]
  },
  {
   "cell_type": "code",
   "execution_count": null,
   "metadata": {},
   "outputs": [],
   "source": [
    "# Your code here\n",
    "\n",
    "pop_gdf"
   ]
  },
  {
   "cell_type": "code",
   "execution_count": null,
   "metadata": {},
   "outputs": [],
   "source": [
    "\"\"\" Test code for the previous function. \n",
    "This cell should NOT give any errors when it is run.\"\"\"\n",
    "\n",
    "assert 'GEOID' in pop_gdf.columns.to_list()\n",
    "assert 'geometry' in pop_gdf.columns.to_list()\n",
    "assert 'DP05_0001E' in pop_gdf.columns.to_list()\n",
    "assert pop_gdf.shape == (3108, 8)\n",
    "\n",
    "print(\"Success!\")"
   ]
  },
  {
   "cell_type": "markdown",
   "metadata": {},
   "source": [
    "---\n",
    "### *Exercise*\n",
    "5. (5 points) Change the projection of `county_gdf` to `NAD83 / Conus Albers (EPSG: 5070)` using the `to_crs` method. You can simply use the syntax below. <br>\n",
    "    ```python\n",
    "    `GeoDataFrmae` = `GeoDataFrmae`.to_crs(epsg=`EPSG CODE`)\n",
    "    ```\n",
    "---\n",
    "\n"
   ]
  },
  {
   "cell_type": "code",
   "execution_count": null,
   "metadata": {},
   "outputs": [],
   "source": [
    "# Your code here\n",
    "\n"
   ]
  },
  {
   "cell_type": "code",
   "execution_count": null,
   "metadata": {},
   "outputs": [],
   "source": [
    "\"\"\" Test code for the previous function. \n",
    "This cell should NOT give any errors when it is run.\"\"\"\n",
    "\n",
    "assert pop_gdf.crs.to_string() == 'EPSG:5070'\n",
    "\n",
    "print(\"Success!\")"
   ]
  },
  {
   "cell_type": "markdown",
   "metadata": {},
   "source": [
    "---\n",
    "### *Exercise*\n",
    "6. (5 points) Create a choropleth map of population for the conterminous United States. <br>\n",
    "    - Consult using the code below and fill in a proper information for the attributes below <br>\n",
    "    - `column`: column with the population information <br>\n",
    "    - `cmap` : Green color map (resource: https://matplotlib.org/stable/users/explain/colors/colormaps.html) <br>\n",
    "    - `scheme`: Natural Break classification method <br>\n",
    "    - `legend`: True (to show the legend) <br>\n",
    "    - `k`: 7 (number of classes) <br>\n",
    "\n",
    "    ```python\n",
    "    fig, ax = plt.subplots(figsize=(10,10)) # Define the canvas for the map\n",
    "\n",
    "    # Plot the population data\n",
    "    pop_gdf.plot(column='COLUMN NAME', cmap='COLOR MAP NAME', scheme='CLASSIFICATION METHOD', legend=True, k=NUMBER OF CLASSES, ax=axis)\n",
    "\n",
    "    # Plot the state boundary\n",
    "    state_gdf.boundary.plot(ax=ax, color='black', linewidth=0.5, alpha=0.5)\n",
    "\n",
    "    # Show the map\n",
    "    plt.show()\n",
    "    ```\n",
    "\n",
    "Expected results are as follows: <br>\n",
    "<img src=\"./images/q6.jpg\">\n",
    "\n",
    "---\n"
   ]
  },
  {
   "cell_type": "code",
   "execution_count": null,
   "metadata": {},
   "outputs": [],
   "source": [
    "# Your code here\n",
    "fig, ax = plt.subplots(figsize=(10,10)) # Define the canvas for the map\n",
    "\n",
    "# Plot the population data\n",
    "pop_gdf.plot(column='COLUMN NAME', cmap='COLOR MAP NAME', scheme='CLASSIFICATION METHOD', legend=True, k=NUMBER OF CLASSES, ax=axis)\n",
    "\n",
    "# Plot the state boundary\n",
    "state_gdf.boundary.plot(ax=ax, color='black', linewidth=0.5, alpha=0.5)\n",
    "\n",
    "# Show the map\n",
    "plt.show()"
   ]
  },
  {
   "cell_type": "code",
   "execution_count": null,
   "metadata": {},
   "outputs": [],
   "source": [
    "fig, axes = plt.subplots(1, 2, figsize=(20,10))\n",
    "\n",
    "gdp_gdf.plot(column='GDP', cmap='Blues', scheme='NaturalBreaks', figsize=(10,10), legend=True, k=7, ax=axes[0])\n",
    "state_gdf.boundary.plot(ax=axes[0], color='black', linewidth=0.5, alpha=0.5)\n",
    "\n",
    "pop_gdf.plot(column='DP05_0001E', cmap='Greens', scheme='NaturalBreaks', figsize=(10,10), legend=True, k=7, ax=axes[1])\n",
    "state_gdf.boundary.plot(ax=axes[1], color='black', linewidth=0.5, alpha=0.5)\n",
    "plt.show()"
   ]
  },
  {
   "cell_type": "markdown",
   "metadata": {},
   "source": [
    "# Done"
   ]
  }
 ],
 "metadata": {
  "kernelspec": {
   "display_name": "sa",
   "language": "python",
   "name": "python3"
  },
  "language_info": {
   "codemirror_mode": {
    "name": "ipython",
    "version": 3
   },
   "file_extension": ".py",
   "mimetype": "text/x-python",
   "name": "python",
   "nbconvert_exporter": "python",
   "pygments_lexer": "ipython3",
   "version": "3.11.5"
  }
 },
 "nbformat": 4,
 "nbformat_minor": 2
}
